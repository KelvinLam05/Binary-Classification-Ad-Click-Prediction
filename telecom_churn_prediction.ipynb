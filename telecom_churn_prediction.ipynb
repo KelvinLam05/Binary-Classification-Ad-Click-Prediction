{
  "nbformat": 4,
  "nbformat_minor": 0,
  "metadata": {
    "colab": {
      "name": "telecom_churn_prediction.ipynb",
      "provenance": [],
      "collapsed_sections": [],
      "authorship_tag": "ABX9TyPO6dL51WQ8q9b8htffPHSk",
      "include_colab_link": true
    },
    "kernelspec": {
      "name": "python3",
      "display_name": "Python 3"
    },
    "language_info": {
      "name": "python"
    },
    "gpuClass": "standard"
  },
  "cells": [
    {
      "cell_type": "markdown",
      "metadata": {
        "id": "view-in-github",
        "colab_type": "text"
      },
      "source": [
        "<a href=\"https://colab.research.google.com/github/KelvinLam05/telecom_churn_prediction/blob/main/telecom_churn_prediction.ipynb\" target=\"_parent\"><img src=\"https://colab.research.google.com/assets/colab-badge.svg\" alt=\"Open In Colab\"/></a>"
      ]
    },
    {
      "cell_type": "markdown",
      "metadata": {
        "id": "rBmInmnTejoM"
      },
      "source": [
        "**Goal of the project**\n"
      ]
    },
    {
      "cell_type": "markdown",
      "source": [
        "The ability to predict that a particular customer is at a high risk of churning, while there is still time to do something about it, represents a huge additional potential revenue source for every online business. Besides the direct loss of revenue that results from a customer abandoning the business, the costs of initially acquiring that customer may not have already been covered by the customer’s spending to date. (In other words, acquiring that customer may have actually been a losing investment.) Furthermore, it is always more difficult and expensive to acquire a new customer than it is to retain a current paying customer."
      ],
      "metadata": {
        "id": "MtM_wtTdCqeH"
      }
    },
    {
      "cell_type": "markdown",
      "source": [
        "In this project, we’ll build a contractual churn model for contractual settings."
      ],
      "metadata": {
        "id": "qRt_NCqMUimT"
      }
    },
    {
      "cell_type": "markdown",
      "source": [
        "**Load the package**"
      ],
      "metadata": {
        "id": "OvQj42waKLsr"
      }
    },
    {
      "cell_type": "code",
      "metadata": {
        "id": "Ve9jnH44AS-4"
      },
      "source": [
        "# Importing library\n",
        "import pandas as pd"
      ],
      "execution_count": 61,
      "outputs": []
    },
    {
      "cell_type": "markdown",
      "source": [
        "**Load the data**"
      ],
      "metadata": {
        "id": "p1OSkCjjARoT"
      }
    },
    {
      "cell_type": "markdown",
      "source": [
        "For this project I’ve used the [Iranian Churn](https://www.kaggle.com/datasets/royjafari/customer-churn) dataset from Kaggle. This is data from a telecoms provider, so we’ll be using it here to create a contractual churn model."
      ],
      "metadata": {
        "id": "qx6nV-JxIjkF"
      }
    },
    {
      "cell_type": "code",
      "metadata": {
        "id": "j3Yk-eM7AoBb"
      },
      "source": [
        "# Load dataset\n",
        "df = pd.read_csv(\"/content/telecom's_churn_dataset.csv\")"
      ],
      "execution_count": 62,
      "outputs": []
    },
    {
      "cell_type": "code",
      "source": [
        "# Rename Pandas columns to lower case\n",
        "df.columns = df.columns.str.lower()"
      ],
      "metadata": {
        "id": "4-S-GCO4-Z00"
      },
      "execution_count": 63,
      "outputs": []
    },
    {
      "cell_type": "code",
      "metadata": {
        "id": "GcRFPPNEOuRT",
        "colab": {
          "base_uri": "https://localhost:8080/",
          "height": 302
        },
        "outputId": "0b17df9e-6bbf-4894-bf92-4872b572d6b8"
      },
      "source": [
        "# Examine the data\n",
        "df.head()"
      ],
      "execution_count": 64,
      "outputs": [
        {
          "output_type": "execute_result",
          "data": {
            "text/plain": [
              "   call  failure  complains  subscription  length  charge  amount  \\\n",
              "0              8          0                    38               0   \n",
              "1              0          0                    39               0   \n",
              "2             10          0                    37               0   \n",
              "3             10          0                    38               0   \n",
              "4              3          0                    38               0   \n",
              "\n",
              "   seconds of use  frequency of use  frequency of sms  \\\n",
              "0            4370                71                 5   \n",
              "1             318                 5                 7   \n",
              "2            2453                60               359   \n",
              "3            4198                66                 1   \n",
              "4            2393                58                 2   \n",
              "\n",
              "   distinct called numbers  age group  tariff plan  status  age  \\\n",
              "0                       17          3            1       1   30   \n",
              "1                        4          2            1       2   25   \n",
              "2                       24          3            1       1   30   \n",
              "3                       35          1            1       1   15   \n",
              "4                       33          1            1       1   15   \n",
              "\n",
              "   customer value         fn        fp  churn  \n",
              "0         197.640   177.8760   69.7640      0  \n",
              "1          46.035    41.4315   60.0000      0  \n",
              "2        1536.520  1382.8680  203.6520      0  \n",
              "3         240.020   216.0180   74.0020      0  \n",
              "4         145.805   131.2245   64.5805      0  "
            ],
            "text/html": [
              "\n",
              "  <div id=\"df-70159eb5-e7b5-4de4-a6b6-8d0cc8b263e2\">\n",
              "    <div class=\"colab-df-container\">\n",
              "      <div>\n",
              "<style scoped>\n",
              "    .dataframe tbody tr th:only-of-type {\n",
              "        vertical-align: middle;\n",
              "    }\n",
              "\n",
              "    .dataframe tbody tr th {\n",
              "        vertical-align: top;\n",
              "    }\n",
              "\n",
              "    .dataframe thead th {\n",
              "        text-align: right;\n",
              "    }\n",
              "</style>\n",
              "<table border=\"1\" class=\"dataframe\">\n",
              "  <thead>\n",
              "    <tr style=\"text-align: right;\">\n",
              "      <th></th>\n",
              "      <th>call  failure</th>\n",
              "      <th>complains</th>\n",
              "      <th>subscription  length</th>\n",
              "      <th>charge  amount</th>\n",
              "      <th>seconds of use</th>\n",
              "      <th>frequency of use</th>\n",
              "      <th>frequency of sms</th>\n",
              "      <th>distinct called numbers</th>\n",
              "      <th>age group</th>\n",
              "      <th>tariff plan</th>\n",
              "      <th>status</th>\n",
              "      <th>age</th>\n",
              "      <th>customer value</th>\n",
              "      <th>fn</th>\n",
              "      <th>fp</th>\n",
              "      <th>churn</th>\n",
              "    </tr>\n",
              "  </thead>\n",
              "  <tbody>\n",
              "    <tr>\n",
              "      <th>0</th>\n",
              "      <td>8</td>\n",
              "      <td>0</td>\n",
              "      <td>38</td>\n",
              "      <td>0</td>\n",
              "      <td>4370</td>\n",
              "      <td>71</td>\n",
              "      <td>5</td>\n",
              "      <td>17</td>\n",
              "      <td>3</td>\n",
              "      <td>1</td>\n",
              "      <td>1</td>\n",
              "      <td>30</td>\n",
              "      <td>197.640</td>\n",
              "      <td>177.8760</td>\n",
              "      <td>69.7640</td>\n",
              "      <td>0</td>\n",
              "    </tr>\n",
              "    <tr>\n",
              "      <th>1</th>\n",
              "      <td>0</td>\n",
              "      <td>0</td>\n",
              "      <td>39</td>\n",
              "      <td>0</td>\n",
              "      <td>318</td>\n",
              "      <td>5</td>\n",
              "      <td>7</td>\n",
              "      <td>4</td>\n",
              "      <td>2</td>\n",
              "      <td>1</td>\n",
              "      <td>2</td>\n",
              "      <td>25</td>\n",
              "      <td>46.035</td>\n",
              "      <td>41.4315</td>\n",
              "      <td>60.0000</td>\n",
              "      <td>0</td>\n",
              "    </tr>\n",
              "    <tr>\n",
              "      <th>2</th>\n",
              "      <td>10</td>\n",
              "      <td>0</td>\n",
              "      <td>37</td>\n",
              "      <td>0</td>\n",
              "      <td>2453</td>\n",
              "      <td>60</td>\n",
              "      <td>359</td>\n",
              "      <td>24</td>\n",
              "      <td>3</td>\n",
              "      <td>1</td>\n",
              "      <td>1</td>\n",
              "      <td>30</td>\n",
              "      <td>1536.520</td>\n",
              "      <td>1382.8680</td>\n",
              "      <td>203.6520</td>\n",
              "      <td>0</td>\n",
              "    </tr>\n",
              "    <tr>\n",
              "      <th>3</th>\n",
              "      <td>10</td>\n",
              "      <td>0</td>\n",
              "      <td>38</td>\n",
              "      <td>0</td>\n",
              "      <td>4198</td>\n",
              "      <td>66</td>\n",
              "      <td>1</td>\n",
              "      <td>35</td>\n",
              "      <td>1</td>\n",
              "      <td>1</td>\n",
              "      <td>1</td>\n",
              "      <td>15</td>\n",
              "      <td>240.020</td>\n",
              "      <td>216.0180</td>\n",
              "      <td>74.0020</td>\n",
              "      <td>0</td>\n",
              "    </tr>\n",
              "    <tr>\n",
              "      <th>4</th>\n",
              "      <td>3</td>\n",
              "      <td>0</td>\n",
              "      <td>38</td>\n",
              "      <td>0</td>\n",
              "      <td>2393</td>\n",
              "      <td>58</td>\n",
              "      <td>2</td>\n",
              "      <td>33</td>\n",
              "      <td>1</td>\n",
              "      <td>1</td>\n",
              "      <td>1</td>\n",
              "      <td>15</td>\n",
              "      <td>145.805</td>\n",
              "      <td>131.2245</td>\n",
              "      <td>64.5805</td>\n",
              "      <td>0</td>\n",
              "    </tr>\n",
              "  </tbody>\n",
              "</table>\n",
              "</div>\n",
              "      <button class=\"colab-df-convert\" onclick=\"convertToInteractive('df-70159eb5-e7b5-4de4-a6b6-8d0cc8b263e2')\"\n",
              "              title=\"Convert this dataframe to an interactive table.\"\n",
              "              style=\"display:none;\">\n",
              "        \n",
              "  <svg xmlns=\"http://www.w3.org/2000/svg\" height=\"24px\"viewBox=\"0 0 24 24\"\n",
              "       width=\"24px\">\n",
              "    <path d=\"M0 0h24v24H0V0z\" fill=\"none\"/>\n",
              "    <path d=\"M18.56 5.44l.94 2.06.94-2.06 2.06-.94-2.06-.94-.94-2.06-.94 2.06-2.06.94zm-11 1L8.5 8.5l.94-2.06 2.06-.94-2.06-.94L8.5 2.5l-.94 2.06-2.06.94zm10 10l.94 2.06.94-2.06 2.06-.94-2.06-.94-.94-2.06-.94 2.06-2.06.94z\"/><path d=\"M17.41 7.96l-1.37-1.37c-.4-.4-.92-.59-1.43-.59-.52 0-1.04.2-1.43.59L10.3 9.45l-7.72 7.72c-.78.78-.78 2.05 0 2.83L4 21.41c.39.39.9.59 1.41.59.51 0 1.02-.2 1.41-.59l7.78-7.78 2.81-2.81c.8-.78.8-2.07 0-2.86zM5.41 20L4 18.59l7.72-7.72 1.47 1.35L5.41 20z\"/>\n",
              "  </svg>\n",
              "      </button>\n",
              "      \n",
              "  <style>\n",
              "    .colab-df-container {\n",
              "      display:flex;\n",
              "      flex-wrap:wrap;\n",
              "      gap: 12px;\n",
              "    }\n",
              "\n",
              "    .colab-df-convert {\n",
              "      background-color: #E8F0FE;\n",
              "      border: none;\n",
              "      border-radius: 50%;\n",
              "      cursor: pointer;\n",
              "      display: none;\n",
              "      fill: #1967D2;\n",
              "      height: 32px;\n",
              "      padding: 0 0 0 0;\n",
              "      width: 32px;\n",
              "    }\n",
              "\n",
              "    .colab-df-convert:hover {\n",
              "      background-color: #E2EBFA;\n",
              "      box-shadow: 0px 1px 2px rgba(60, 64, 67, 0.3), 0px 1px 3px 1px rgba(60, 64, 67, 0.15);\n",
              "      fill: #174EA6;\n",
              "    }\n",
              "\n",
              "    [theme=dark] .colab-df-convert {\n",
              "      background-color: #3B4455;\n",
              "      fill: #D2E3FC;\n",
              "    }\n",
              "\n",
              "    [theme=dark] .colab-df-convert:hover {\n",
              "      background-color: #434B5C;\n",
              "      box-shadow: 0px 1px 3px 1px rgba(0, 0, 0, 0.15);\n",
              "      filter: drop-shadow(0px 1px 2px rgba(0, 0, 0, 0.3));\n",
              "      fill: #FFFFFF;\n",
              "    }\n",
              "  </style>\n",
              "\n",
              "      <script>\n",
              "        const buttonEl =\n",
              "          document.querySelector('#df-70159eb5-e7b5-4de4-a6b6-8d0cc8b263e2 button.colab-df-convert');\n",
              "        buttonEl.style.display =\n",
              "          google.colab.kernel.accessAllowed ? 'block' : 'none';\n",
              "\n",
              "        async function convertToInteractive(key) {\n",
              "          const element = document.querySelector('#df-70159eb5-e7b5-4de4-a6b6-8d0cc8b263e2');\n",
              "          const dataTable =\n",
              "            await google.colab.kernel.invokeFunction('convertToInteractive',\n",
              "                                                     [key], {});\n",
              "          if (!dataTable) return;\n",
              "\n",
              "          const docLinkHtml = 'Like what you see? Visit the ' +\n",
              "            '<a target=\"_blank\" href=https://colab.research.google.com/notebooks/data_table.ipynb>data table notebook</a>'\n",
              "            + ' to learn more about interactive tables.';\n",
              "          element.innerHTML = '';\n",
              "          dataTable['output_type'] = 'display_data';\n",
              "          await google.colab.output.renderOutput(dataTable, element);\n",
              "          const docLink = document.createElement('div');\n",
              "          docLink.innerHTML = docLinkHtml;\n",
              "          element.appendChild(docLink);\n",
              "        }\n",
              "      </script>\n",
              "    </div>\n",
              "  </div>\n",
              "  "
            ]
          },
          "metadata": {},
          "execution_count": 64
        }
      ]
    },
    {
      "cell_type": "code",
      "metadata": {
        "id": "ggHEXgt5O3c6",
        "colab": {
          "base_uri": "https://localhost:8080/"
        },
        "outputId": "728853b6-af89-44da-8ec1-0d8e11b93f8c"
      },
      "source": [
        "# Overview of all variables, their datatypes\n",
        "df.info()"
      ],
      "execution_count": 65,
      "outputs": [
        {
          "output_type": "stream",
          "name": "stdout",
          "text": [
            "<class 'pandas.core.frame.DataFrame'>\n",
            "RangeIndex: 3150 entries, 0 to 3149\n",
            "Data columns (total 16 columns):\n",
            " #   Column                   Non-Null Count  Dtype  \n",
            "---  ------                   --------------  -----  \n",
            " 0   call  failure            3150 non-null   int64  \n",
            " 1   complains                3150 non-null   int64  \n",
            " 2   subscription  length     3150 non-null   int64  \n",
            " 3   charge  amount           3150 non-null   int64  \n",
            " 4   seconds of use           3150 non-null   int64  \n",
            " 5   frequency of use         3150 non-null   int64  \n",
            " 6   frequency of sms         3150 non-null   int64  \n",
            " 7   distinct called numbers  3150 non-null   int64  \n",
            " 8   age group                3150 non-null   int64  \n",
            " 9   tariff plan              3150 non-null   int64  \n",
            " 10  status                   3150 non-null   int64  \n",
            " 11  age                      3150 non-null   int64  \n",
            " 12  customer value           3150 non-null   float64\n",
            " 13  fn                       3150 non-null   float64\n",
            " 14  fp                       3150 non-null   float64\n",
            " 15  churn                    3150 non-null   int64  \n",
            "dtypes: float64(3), int64(13)\n",
            "memory usage: 393.9 KB\n"
          ]
        }
      ]
    },
    {
      "cell_type": "markdown",
      "source": [
        "**Define the target variable**\n"
      ],
      "metadata": {
        "id": "Ff4Ln6OXTGR9"
      }
    },
    {
      "cell_type": "markdown",
      "source": [
        "If we run the Pandas value_counts( ) function we will see that this is an imbalanced dataset. "
      ],
      "metadata": {
        "id": "q9YG00NxBj2G"
      }
    },
    {
      "cell_type": "code",
      "source": [
        "df['churn'].value_counts()"
      ],
      "metadata": {
        "colab": {
          "base_uri": "https://localhost:8080/"
        },
        "id": "K8PN-GxmBniq",
        "outputId": "0a4928a6-190f-475d-ff57-5dcc3f00c71e"
      },
      "execution_count": 66,
      "outputs": [
        {
          "output_type": "execute_result",
          "data": {
            "text/plain": [
              "0    2655\n",
              "1     495\n",
              "Name: churn, dtype: int64"
            ]
          },
          "metadata": {},
          "execution_count": 66
        }
      ]
    },
    {
      "cell_type": "markdown",
      "source": [
        "**Check for missing values**"
      ],
      "metadata": {
        "id": "menw3-ibCGX9"
      }
    },
    {
      "cell_type": "markdown",
      "source": [
        "Before moving on, we’ll check to see if there are any null values to impute. However, the data were all fine, so there was nothing to do."
      ],
      "metadata": {
        "id": "QWjAUDhWUHUL"
      }
    },
    {
      "cell_type": "code",
      "metadata": {
        "colab": {
          "base_uri": "https://localhost:8080/"
        },
        "id": "28MsfXzToekQ",
        "outputId": "69318450-466b-4502-c732-8a700ea0c26b"
      },
      "source": [
        "# Check for missing values\n",
        "df.isnull().sum()"
      ],
      "execution_count": 67,
      "outputs": [
        {
          "output_type": "execute_result",
          "data": {
            "text/plain": [
              "call  failure              0\n",
              "complains                  0\n",
              "subscription  length       0\n",
              "charge  amount             0\n",
              "seconds of use             0\n",
              "frequency of use           0\n",
              "frequency of sms           0\n",
              "distinct called numbers    0\n",
              "age group                  0\n",
              "tariff plan                0\n",
              "status                     0\n",
              "age                        0\n",
              "customer value             0\n",
              "fn                         0\n",
              "fp                         0\n",
              "churn                      0\n",
              "dtype: int64"
            ]
          },
          "metadata": {},
          "execution_count": 67
        }
      ]
    },
    {
      "cell_type": "markdown",
      "metadata": {
        "id": "hCif0_YGoBiw"
      },
      "source": [
        "**Split the train and test data**"
      ]
    },
    {
      "cell_type": "code",
      "metadata": {
        "id": "Db5V-6K9Aqau"
      },
      "source": [
        "X = df.drop('churn', axis = 1) "
      ],
      "execution_count": 68,
      "outputs": []
    },
    {
      "cell_type": "code",
      "metadata": {
        "id": "YVAA05vTnjL9"
      },
      "source": [
        "y = df['churn']"
      ],
      "execution_count": 69,
      "outputs": []
    },
    {
      "cell_type": "markdown",
      "source": [
        "To divide X and y into the train and test datasets we need to train the model we will use the train_test_split( ) function from scikit-learn. We will assign 30% of the data to the test groups using the argument test_size = 0.3, and we will use the stratify = y option to ensure the target variable is present in the test and train data in equal proportions. The random_state = 42 argument means we get reproducible results each time we run the code, rather than a random mix, which may give us different results."
      ],
      "metadata": {
        "id": "jjvHrn1w2A4k"
      }
    },
    {
      "cell_type": "code",
      "metadata": {
        "id": "onwsmsYdCoh0"
      },
      "source": [
        "from sklearn.model_selection import train_test_split"
      ],
      "execution_count": 70,
      "outputs": []
    },
    {
      "cell_type": "code",
      "metadata": {
        "id": "-LrXeaAmCHXj"
      },
      "source": [
        "# Isolate X and y variables, and perform train-test split\n",
        "X_train, X_test, y_train, y_test = train_test_split(X, y, test_size = 0.3, random_state = 42, stratify = y)"
      ],
      "execution_count": 71,
      "outputs": []
    },
    {
      "cell_type": "markdown",
      "source": [
        "**Create a model pipeline**"
      ],
      "metadata": {
        "id": "TatYScbcxOVn"
      }
    },
    {
      "cell_type": "markdown",
      "source": [
        "Next, we will create a model pipeline. This will handle the encoding of our data using the ColumnTransformer( ) feature. This also scales the data before we pass it to the model.\n",
        "\n",
        "I have used the SMOTEENN to better handle class imbalance."
      ],
      "metadata": {
        "id": "Zj_Zo1RvRdcs"
      }
    },
    {
      "cell_type": "code",
      "source": [
        "import time\n",
        "from sklearn.pipeline import Pipeline\n",
        "from sklearn.compose import ColumnTransformer\n",
        "\n",
        "from imblearn.pipeline import Pipeline as imbpipeline\n",
        "from imblearn.combine import SMOTEENN\n",
        "from sklearn.preprocessing import RobustScaler\n",
        "from sklearn.model_selection import cross_val_score\n",
        "from sklearn.metrics import roc_auc_score"
      ],
      "metadata": {
        "id": "41hl-QKjFvEp"
      },
      "execution_count": 72,
      "outputs": []
    },
    {
      "cell_type": "code",
      "source": [
        "def get_pipeline(X, model):\n",
        "\n",
        "    numeric_columns = list(X.select_dtypes(exclude = ['object']).columns.values.tolist())    \n",
        "    \n",
        "    preprocessor = ColumnTransformer(transformers = [('numeric', 'passthrough', numeric_columns)])\n",
        "\n",
        "    bundled_pipeline = imbpipeline(steps = [('preprocessor', preprocessor),\n",
        "                                            ('smote', SMOTEENN(random_state = 42)),\n",
        "                                            ('scaler', RobustScaler()),\n",
        "                                            ('model', model)])\n",
        "    return bundled_pipeline"
      ],
      "metadata": {
        "id": "Q_PCjzY_Fu2y"
      },
      "execution_count": 73,
      "outputs": []
    },
    {
      "cell_type": "markdown",
      "source": [
        "**Select the best model**"
      ],
      "metadata": {
        "id": "6GcVc1Rpx1Kp"
      }
    },
    {
      "cell_type": "markdown",
      "source": [
        "Rather than simply selecting a single model, or repeating our code manually on a range of models, we can create another function to automatically test a wide range of possible models to determine the best one for our needs. To do this we first create a dictionary containing some a selection of base classifiers, including XGBoost, Random Forest, Decision Tree, SVC, and a Bernoulli Naive Bayes among others.\n",
        "\n",
        "We will create a Pandas dataframe into which we will store the data. Then we will loop over each of the models, fit it using the X_train and y_train data, then generate predictions from X_test and calculate the mean ROC/AUC score from 5 rounds of cross-validation. That will give us the ROC/AUC score for the X_test data, plus the average ROC/AUC score for the training data set."
      ],
      "metadata": {
        "id": "V7Gb30iAzqUo"
      }
    },
    {
      "cell_type": "code",
      "source": [
        "pip install catboost"
      ],
      "metadata": {
        "colab": {
          "base_uri": "https://localhost:8080/"
        },
        "id": "bxEnsCyjogm2",
        "outputId": "192f001d-0d17-48df-96cf-c8a748ef9a14"
      },
      "execution_count": 74,
      "outputs": [
        {
          "output_type": "stream",
          "name": "stdout",
          "text": [
            "Looking in indexes: https://pypi.org/simple, https://us-python.pkg.dev/colab-wheels/public/simple/\n",
            "Requirement already satisfied: catboost in /usr/local/lib/python3.7/dist-packages (1.0.6)\n",
            "Requirement already satisfied: six in /usr/local/lib/python3.7/dist-packages (from catboost) (1.15.0)\n",
            "Requirement already satisfied: plotly in /usr/local/lib/python3.7/dist-packages (from catboost) (5.5.0)\n",
            "Requirement already satisfied: matplotlib in /usr/local/lib/python3.7/dist-packages (from catboost) (3.2.2)\n",
            "Requirement already satisfied: numpy>=1.16.0 in /usr/local/lib/python3.7/dist-packages (from catboost) (1.21.6)\n",
            "Requirement already satisfied: scipy in /usr/local/lib/python3.7/dist-packages (from catboost) (1.7.3)\n",
            "Requirement already satisfied: graphviz in /usr/local/lib/python3.7/dist-packages (from catboost) (0.10.1)\n",
            "Requirement already satisfied: pandas>=0.24.0 in /usr/local/lib/python3.7/dist-packages (from catboost) (1.3.5)\n",
            "Requirement already satisfied: pytz>=2017.3 in /usr/local/lib/python3.7/dist-packages (from pandas>=0.24.0->catboost) (2022.1)\n",
            "Requirement already satisfied: python-dateutil>=2.7.3 in /usr/local/lib/python3.7/dist-packages (from pandas>=0.24.0->catboost) (2.8.2)\n",
            "Requirement already satisfied: pyparsing!=2.0.4,!=2.1.2,!=2.1.6,>=2.0.1 in /usr/local/lib/python3.7/dist-packages (from matplotlib->catboost) (3.0.9)\n",
            "Requirement already satisfied: cycler>=0.10 in /usr/local/lib/python3.7/dist-packages (from matplotlib->catboost) (0.11.0)\n",
            "Requirement already satisfied: kiwisolver>=1.0.1 in /usr/local/lib/python3.7/dist-packages (from matplotlib->catboost) (1.4.4)\n",
            "Requirement already satisfied: typing-extensions in /usr/local/lib/python3.7/dist-packages (from kiwisolver>=1.0.1->matplotlib->catboost) (4.1.1)\n",
            "Requirement already satisfied: tenacity>=6.2.0 in /usr/local/lib/python3.7/dist-packages (from plotly->catboost) (8.0.1)\n"
          ]
        }
      ]
    },
    {
      "cell_type": "code",
      "source": [
        "from sklearn.dummy import DummyClassifier\n",
        "from sklearn.neighbors import KNeighborsClassifier\n",
        "from catboost import CatBoostClassifier\n",
        "from sklearn.tree import DecisionTreeClassifier\n",
        "from lightgbm import LGBMClassifier\n",
        "from sklearn.linear_model import SGDClassifier\n",
        "from sklearn.ensemble import RandomForestClassifier, ExtraTreesClassifier, GradientBoostingClassifier\n",
        "from sklearn.ensemble import BaggingClassifier, AdaBoostClassifier, HistGradientBoostingClassifier\n",
        "from xgboost import XGBClassifier, XGBRFClassifier\n",
        "from sklearn.svm import SVC\n",
        "from sklearn.naive_bayes import BernoulliNB"
      ],
      "metadata": {
        "id": "Zi1Vm0BsFvPr"
      },
      "execution_count": 75,
      "outputs": []
    },
    {
      "cell_type": "code",
      "source": [
        "def select_model(X, y, pipeline = None):\n",
        "\n",
        "  classifiers = {}\n",
        "  classifiers.update({'DummyClassifier': DummyClassifier(strategy = 'most_frequent', random_state = 42)})\n",
        "  classifiers.update({'XGBClassifier': XGBClassifier(random_state = 42)})\n",
        "  classifiers.update({'XGBRFClassifier': XGBRFClassifier(random_state = 42)})\n",
        "  classifiers.update({'LGBMClassifier': LGBMClassifier(random_state = 42)})\n",
        "  classifiers.update({'RandomForestClassifier': RandomForestClassifier(random_state = 42)})\n",
        "  classifiers.update({'DecisionTreeClassifier': DecisionTreeClassifier(random_state = 42)})\n",
        "  classifiers.update({'ExtraTreesClassifier': ExtraTreesClassifier(random_state = 42)})\n",
        "  classifiers.update({'GradientBoostingClassifier': GradientBoostingClassifier(random_state = 42)})    \n",
        "  classifiers.update({'BaggingClassifier': BaggingClassifier(random_state = 42)})\n",
        "  classifiers.update({'AdaBoostClassifier': AdaBoostClassifier(random_state = 42)})\n",
        "  classifiers.update({'HistGradientBoostingClassifier': HistGradientBoostingClassifier(random_state = 42)})\n",
        "  classifiers.update({'KNeighborsClassifier': KNeighborsClassifier()})\n",
        "  classifiers.update({'SGDClassifier': SGDClassifier(random_state = 42)})\n",
        "  classifiers.update({'BernoulliNB': BernoulliNB()})\n",
        "  classifiers.update({'SVC': SVC(random_state = 42)})\n",
        "  classifiers.update({'CatBoostClassifier': CatBoostClassifier(silent = True, random_state = 42)})\n",
        "\n",
        "  df_models = pd.DataFrame(columns = ['model', 'run_time', 'roc_auc_cv', 'roc_auc'])\n",
        "\n",
        "  for key in classifiers:\n",
        "\n",
        "      print('*', key)\n",
        "\n",
        "      start_time = time.time()\n",
        "      \n",
        "      pipeline = get_pipeline(X_train, classifiers[key])\n",
        "\n",
        "      cv = cross_val_score(pipeline, X, y, cv = 5, scoring = 'roc_auc', n_jobs = -1)\n",
        "\n",
        "      pipeline.fit(X_train, y_train)\n",
        "      y_pred = pipeline.predict(X_test)\n",
        "\n",
        "      row = {'model': key,\n",
        "             'run_time': format(round((time.time() - start_time) / 60, 2)),\n",
        "             'roc_auc_cv': cv.mean(),\n",
        "             'roc_auc': roc_auc_score(y_test, y_pred)}\n",
        "\n",
        "      df_models = df_models.append(row, ignore_index = True)\n",
        "\n",
        "  df_models = df_models.sort_values(by = 'roc_auc', ascending = False)\n",
        "      \n",
        "  return df_models"
      ],
      "metadata": {
        "id": "tPxOY4toFuqR"
      },
      "execution_count": 76,
      "outputs": []
    },
    {
      "cell_type": "code",
      "source": [
        "models = select_model(X_train, y_train)"
      ],
      "metadata": {
        "colab": {
          "base_uri": "https://localhost:8080/"
        },
        "id": "ZhysNV4NTjMa",
        "outputId": "f50761d2-b18e-439e-88b5-0dc9118da485"
      },
      "execution_count": 77,
      "outputs": [
        {
          "output_type": "stream",
          "name": "stdout",
          "text": [
            "* DummyClassifier\n",
            "* XGBClassifier\n",
            "* XGBRFClassifier\n",
            "* LGBMClassifier\n",
            "* RandomForestClassifier\n",
            "* DecisionTreeClassifier\n",
            "* ExtraTreesClassifier\n",
            "* GradientBoostingClassifier\n",
            "* BaggingClassifier\n",
            "* AdaBoostClassifier\n",
            "* HistGradientBoostingClassifier\n",
            "* KNeighborsClassifier\n",
            "* SGDClassifier\n",
            "* BernoulliNB\n",
            "* SVC\n",
            "* CatBoostClassifier\n"
          ]
        }
      ]
    },
    {
      "cell_type": "code",
      "source": [
        "models.head(10)"
      ],
      "metadata": {
        "id": "t0rN3bl1rBt1",
        "colab": {
          "base_uri": "https://localhost:8080/",
          "height": 359
        },
        "outputId": "d50d2b65-e841-4f21-b038-0fba4871f4ab"
      },
      "execution_count": 78,
      "outputs": [
        {
          "output_type": "execute_result",
          "data": {
            "text/plain": [
              "                             model run_time  roc_auc_cv   roc_auc\n",
              "3                   LGBMClassifier     0.02    0.965212  0.942233\n",
              "15              CatBoostClassifier     0.56    0.967242  0.938227\n",
              "10  HistGradientBoostingClassifier     0.04    0.964661  0.934221\n",
              "8                BaggingClassifier     0.01    0.950193  0.933835\n",
              "6             ExtraTreesClassifier     0.02    0.966524  0.930699\n",
              "4           RandomForestClassifier     0.03    0.958578  0.923556\n",
              "11            KNeighborsClassifier     0.01    0.940544  0.918635\n",
              "1                    XGBClassifier     0.02    0.957881  0.917622\n",
              "7       GradientBoostingClassifier     0.06    0.954917  0.913760\n",
              "5           DecisionTreeClassifier      0.0    0.895110  0.906279"
            ],
            "text/html": [
              "\n",
              "  <div id=\"df-46166cfe-8479-44e4-8abd-046d5b22911c\">\n",
              "    <div class=\"colab-df-container\">\n",
              "      <div>\n",
              "<style scoped>\n",
              "    .dataframe tbody tr th:only-of-type {\n",
              "        vertical-align: middle;\n",
              "    }\n",
              "\n",
              "    .dataframe tbody tr th {\n",
              "        vertical-align: top;\n",
              "    }\n",
              "\n",
              "    .dataframe thead th {\n",
              "        text-align: right;\n",
              "    }\n",
              "</style>\n",
              "<table border=\"1\" class=\"dataframe\">\n",
              "  <thead>\n",
              "    <tr style=\"text-align: right;\">\n",
              "      <th></th>\n",
              "      <th>model</th>\n",
              "      <th>run_time</th>\n",
              "      <th>roc_auc_cv</th>\n",
              "      <th>roc_auc</th>\n",
              "    </tr>\n",
              "  </thead>\n",
              "  <tbody>\n",
              "    <tr>\n",
              "      <th>3</th>\n",
              "      <td>LGBMClassifier</td>\n",
              "      <td>0.02</td>\n",
              "      <td>0.965212</td>\n",
              "      <td>0.942233</td>\n",
              "    </tr>\n",
              "    <tr>\n",
              "      <th>15</th>\n",
              "      <td>CatBoostClassifier</td>\n",
              "      <td>0.56</td>\n",
              "      <td>0.967242</td>\n",
              "      <td>0.938227</td>\n",
              "    </tr>\n",
              "    <tr>\n",
              "      <th>10</th>\n",
              "      <td>HistGradientBoostingClassifier</td>\n",
              "      <td>0.04</td>\n",
              "      <td>0.964661</td>\n",
              "      <td>0.934221</td>\n",
              "    </tr>\n",
              "    <tr>\n",
              "      <th>8</th>\n",
              "      <td>BaggingClassifier</td>\n",
              "      <td>0.01</td>\n",
              "      <td>0.950193</td>\n",
              "      <td>0.933835</td>\n",
              "    </tr>\n",
              "    <tr>\n",
              "      <th>6</th>\n",
              "      <td>ExtraTreesClassifier</td>\n",
              "      <td>0.02</td>\n",
              "      <td>0.966524</td>\n",
              "      <td>0.930699</td>\n",
              "    </tr>\n",
              "    <tr>\n",
              "      <th>4</th>\n",
              "      <td>RandomForestClassifier</td>\n",
              "      <td>0.03</td>\n",
              "      <td>0.958578</td>\n",
              "      <td>0.923556</td>\n",
              "    </tr>\n",
              "    <tr>\n",
              "      <th>11</th>\n",
              "      <td>KNeighborsClassifier</td>\n",
              "      <td>0.01</td>\n",
              "      <td>0.940544</td>\n",
              "      <td>0.918635</td>\n",
              "    </tr>\n",
              "    <tr>\n",
              "      <th>1</th>\n",
              "      <td>XGBClassifier</td>\n",
              "      <td>0.02</td>\n",
              "      <td>0.957881</td>\n",
              "      <td>0.917622</td>\n",
              "    </tr>\n",
              "    <tr>\n",
              "      <th>7</th>\n",
              "      <td>GradientBoostingClassifier</td>\n",
              "      <td>0.06</td>\n",
              "      <td>0.954917</td>\n",
              "      <td>0.913760</td>\n",
              "    </tr>\n",
              "    <tr>\n",
              "      <th>5</th>\n",
              "      <td>DecisionTreeClassifier</td>\n",
              "      <td>0.0</td>\n",
              "      <td>0.895110</td>\n",
              "      <td>0.906279</td>\n",
              "    </tr>\n",
              "  </tbody>\n",
              "</table>\n",
              "</div>\n",
              "      <button class=\"colab-df-convert\" onclick=\"convertToInteractive('df-46166cfe-8479-44e4-8abd-046d5b22911c')\"\n",
              "              title=\"Convert this dataframe to an interactive table.\"\n",
              "              style=\"display:none;\">\n",
              "        \n",
              "  <svg xmlns=\"http://www.w3.org/2000/svg\" height=\"24px\"viewBox=\"0 0 24 24\"\n",
              "       width=\"24px\">\n",
              "    <path d=\"M0 0h24v24H0V0z\" fill=\"none\"/>\n",
              "    <path d=\"M18.56 5.44l.94 2.06.94-2.06 2.06-.94-2.06-.94-.94-2.06-.94 2.06-2.06.94zm-11 1L8.5 8.5l.94-2.06 2.06-.94-2.06-.94L8.5 2.5l-.94 2.06-2.06.94zm10 10l.94 2.06.94-2.06 2.06-.94-2.06-.94-.94-2.06-.94 2.06-2.06.94z\"/><path d=\"M17.41 7.96l-1.37-1.37c-.4-.4-.92-.59-1.43-.59-.52 0-1.04.2-1.43.59L10.3 9.45l-7.72 7.72c-.78.78-.78 2.05 0 2.83L4 21.41c.39.39.9.59 1.41.59.51 0 1.02-.2 1.41-.59l7.78-7.78 2.81-2.81c.8-.78.8-2.07 0-2.86zM5.41 20L4 18.59l7.72-7.72 1.47 1.35L5.41 20z\"/>\n",
              "  </svg>\n",
              "      </button>\n",
              "      \n",
              "  <style>\n",
              "    .colab-df-container {\n",
              "      display:flex;\n",
              "      flex-wrap:wrap;\n",
              "      gap: 12px;\n",
              "    }\n",
              "\n",
              "    .colab-df-convert {\n",
              "      background-color: #E8F0FE;\n",
              "      border: none;\n",
              "      border-radius: 50%;\n",
              "      cursor: pointer;\n",
              "      display: none;\n",
              "      fill: #1967D2;\n",
              "      height: 32px;\n",
              "      padding: 0 0 0 0;\n",
              "      width: 32px;\n",
              "    }\n",
              "\n",
              "    .colab-df-convert:hover {\n",
              "      background-color: #E2EBFA;\n",
              "      box-shadow: 0px 1px 2px rgba(60, 64, 67, 0.3), 0px 1px 3px 1px rgba(60, 64, 67, 0.15);\n",
              "      fill: #174EA6;\n",
              "    }\n",
              "\n",
              "    [theme=dark] .colab-df-convert {\n",
              "      background-color: #3B4455;\n",
              "      fill: #D2E3FC;\n",
              "    }\n",
              "\n",
              "    [theme=dark] .colab-df-convert:hover {\n",
              "      background-color: #434B5C;\n",
              "      box-shadow: 0px 1px 3px 1px rgba(0, 0, 0, 0.15);\n",
              "      filter: drop-shadow(0px 1px 2px rgba(0, 0, 0, 0.3));\n",
              "      fill: #FFFFFF;\n",
              "    }\n",
              "  </style>\n",
              "\n",
              "      <script>\n",
              "        const buttonEl =\n",
              "          document.querySelector('#df-46166cfe-8479-44e4-8abd-046d5b22911c button.colab-df-convert');\n",
              "        buttonEl.style.display =\n",
              "          google.colab.kernel.accessAllowed ? 'block' : 'none';\n",
              "\n",
              "        async function convertToInteractive(key) {\n",
              "          const element = document.querySelector('#df-46166cfe-8479-44e4-8abd-046d5b22911c');\n",
              "          const dataTable =\n",
              "            await google.colab.kernel.invokeFunction('convertToInteractive',\n",
              "                                                     [key], {});\n",
              "          if (!dataTable) return;\n",
              "\n",
              "          const docLinkHtml = 'Like what you see? Visit the ' +\n",
              "            '<a target=\"_blank\" href=https://colab.research.google.com/notebooks/data_table.ipynb>data table notebook</a>'\n",
              "            + ' to learn more about interactive tables.';\n",
              "          element.innerHTML = '';\n",
              "          dataTable['output_type'] = 'display_data';\n",
              "          await google.colab.output.renderOutput(dataTable, element);\n",
              "          const docLink = document.createElement('div');\n",
              "          docLink.innerHTML = docLinkHtml;\n",
              "          element.appendChild(docLink);\n",
              "        }\n",
              "      </script>\n",
              "    </div>\n",
              "  </div>\n",
              "  "
            ]
          },
          "metadata": {},
          "execution_count": 78
        }
      ]
    },
    {
      "cell_type": "markdown",
      "source": [
        "**Fit the best model**"
      ],
      "metadata": {
        "id": "OTKLBmf7EJOk"
      }
    },
    {
      "cell_type": "markdown",
      "source": [
        "Finally, we can take our best model - the LGBMClassifier - and fit the data on this. To do this step, we will first define our selected model, then we will pass its configuration to get_pipeline( ) with our training data. Then, we will fit( ) the training data and use predict( ) to return our predictions from the newly trained model."
      ],
      "metadata": {
        "id": "3BnfFLdYGqQD"
      }
    },
    {
      "cell_type": "code",
      "source": [
        "selected_model = LGBMClassifier(random_state = 42)\n",
        "bundled_pipeline = get_pipeline(X_train, selected_model)\n",
        "bundled_pipeline.fit(X_train, y_train)\n",
        "y_pred = bundled_pipeline.predict(X_test)"
      ],
      "metadata": {
        "id": "DvE_mGcyGxFh"
      },
      "execution_count": 79,
      "outputs": []
    },
    {
      "cell_type": "markdown",
      "source": [
        "**Examine the predictions**"
      ],
      "metadata": {
        "id": "gt8crs94EZ0K"
      }
    },
    {
      "cell_type": "markdown",
      "source": [
        "To examine how well the model performed in a little more detail we can make use of the classification_report( ). The classification report shows us the precision, recall, and F1 score for our predictions.\n",
        "\n",
        "\n"
      ],
      "metadata": {
        "id": "8QprSBTJ0L9h"
      }
    },
    {
      "cell_type": "code",
      "source": [
        "from sklearn.metrics import classification_report"
      ],
      "metadata": {
        "id": "zDDzHrZsMbE7"
      },
      "execution_count": 80,
      "outputs": []
    },
    {
      "cell_type": "code",
      "source": [
        "print(classification_report(y_test, y_pred))"
      ],
      "metadata": {
        "id": "_dft5BBCGXMX",
        "colab": {
          "base_uri": "https://localhost:8080/"
        },
        "outputId": "c4b015c2-1519-4839-9354-62cd58f8a6dc"
      },
      "execution_count": 81,
      "outputs": [
        {
          "output_type": "stream",
          "name": "stdout",
          "text": [
            "              precision    recall  f1-score   support\n",
            "\n",
            "           0       0.99      0.94      0.96       797\n",
            "           1       0.74      0.95      0.83       148\n",
            "\n",
            "    accuracy                           0.94       945\n",
            "   macro avg       0.87      0.94      0.90       945\n",
            "weighted avg       0.95      0.94      0.94       945\n",
            "\n"
          ]
        }
      ]
    },
    {
      "cell_type": "markdown",
      "source": [
        "Let’s unpack those results a little bit…"
      ],
      "metadata": {
        "id": "jvsr4ZGhG5MK"
      }
    },
    {
      "cell_type": "markdown",
      "source": [
        "**Recall**\n"
      ],
      "metadata": {
        "id": "Zsf5Dhl2FCeL"
      }
    },
    {
      "cell_type": "markdown",
      "source": [
        "A churn class recall of 0.95 means that the model was able to catch 95% of the actual churn cases. This is the measure we really care about, because we want to miss as few of the true churn cases as possible."
      ],
      "metadata": {
        "id": "1emBwbX6FLOj"
      }
    },
    {
      "cell_type": "markdown",
      "source": [
        "**Precision**"
      ],
      "metadata": {
        "id": "DfBdfva6FPAH"
      }
    },
    {
      "cell_type": "markdown",
      "source": [
        "Precision of the churn class measures how often the model catches an actual churn case, while also factoring in how often it misclassifies a non-churn case as a churn case. In this case, a churn precision of 0.74 is not a problem because there are no significant consequences of identifying a customer as a churn risk when she isn’t."
      ],
      "metadata": {
        "id": "5-3PXvabE9tp"
      }
    },
    {
      "cell_type": "markdown",
      "source": [
        "**F1 score**"
      ],
      "metadata": {
        "id": "V-D6qcB8GAm6"
      }
    },
    {
      "cell_type": "markdown",
      "source": [
        "The F1 score is the harmonic mean of precision and recall. It helps give us a balanced idea of how the model is performing on the churn class. In this case a churn class F1 score of 0.83 is pretty good. "
      ],
      "metadata": {
        "id": "Ee8KtFISFwUG"
      }
    }
  ]
}