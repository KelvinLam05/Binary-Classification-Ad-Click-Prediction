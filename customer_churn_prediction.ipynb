{
  "nbformat": 4,
  "nbformat_minor": 0,
  "metadata": {
    "colab": {
      "name": "customer_churn_prediction.ipynb",
      "provenance": [],
      "collapsed_sections": [],
      "authorship_tag": "ABX9TyOSMZRm79mMtIFtzqT+YsKB",
      "include_colab_link": true
    },
    "kernelspec": {
      "name": "python3",
      "display_name": "Python 3"
    },
    "language_info": {
      "name": "python"
    }
  },
  "cells": [
    {
      "cell_type": "markdown",
      "metadata": {
        "id": "view-in-github",
        "colab_type": "text"
      },
      "source": [
        "<a href=\"https://colab.research.google.com/github/KelvinLam05/Binary-Classification-Ad-Click-Prediction/blob/main/customer_churn_prediction.ipynb\" target=\"_parent\"><img src=\"https://colab.research.google.com/assets/colab-badge.svg\" alt=\"Open In Colab\"/></a>"
      ]
    },
    {
      "cell_type": "markdown",
      "source": [
        "**Goal of the project**"
      ],
      "metadata": {
        "id": "XzpgtDdSx8iN"
      }
    },
    {
      "cell_type": "markdown",
      "metadata": {
        "id": "U6VQEXFSJoqN"
      },
      "source": [
        "A growing proportion of what we buy regularly is purchased via a subscription, or some other kind of contract. Most people have contracts for their internet, mobile phone, car insurance, tax, iCloud, Spotify, and pretty much anything else we can think of. Even their milk.\n",
        "\n",
        "To help maximise customer retention, contractual or subscription-based businesses, identify customers who are reaching the ends of their contracts and assess their probability to churn, or not renew, using a customer churn model. Rather than simply using the contract renewal date, these churn models assess other features that are associated with a customer’s propensity to renew their contract, or go elsewhere. \n",
        "\n",
        "In this project, we will build a contractual churn model for contractual settings to show how it’s done. "
      ]
    },
    {
      "cell_type": "markdown",
      "source": [
        "**Load the packages**"
      ],
      "metadata": {
        "id": "lLAYSltN_n_c"
      }
    },
    {
      "cell_type": "code",
      "metadata": {
        "id": "HjJQ_zTXs24H"
      },
      "source": [
        "# Importing libraries\n",
        "import pandas as pd\n",
        "import numpy as np\n",
        "import matplotlib.pyplot as plt\n",
        "import seaborn as sns\n",
        "\n",
        "%matplotlib inline"
      ],
      "execution_count": 1182,
      "outputs": []
    },
    {
      "cell_type": "code",
      "metadata": {
        "id": "T5OlvfMEtWLt"
      },
      "source": [
        "pd.set_option('max_rows', 200)\n",
        "pd.set_option('max_colwidth', 200)"
      ],
      "execution_count": 1183,
      "outputs": []
    },
    {
      "cell_type": "markdown",
      "source": [
        "**Load the data**"
      ],
      "metadata": {
        "id": "XooCZmVc_vMr"
      }
    },
    {
      "cell_type": "code",
      "metadata": {
        "id": "5sHOmwTfIc01"
      },
      "source": [
        "# Load dataset\n",
        "df = pd.read_csv('/content/customer_churn_prediction.csv')"
      ],
      "execution_count": 1184,
      "outputs": []
    },
    {
      "cell_type": "code",
      "metadata": {
        "colab": {
          "base_uri": "https://localhost:8080/",
          "height": 268
        },
        "id": "c1dzMhRRKrGh",
        "outputId": "8aa94785-7646-40f5-9d99-d9482a9776f5"
      },
      "source": [
        "# Examine the data\n",
        "df.head()"
      ],
      "execution_count": 1185,
      "outputs": [
        {
          "output_type": "execute_result",
          "data": {
            "text/html": [
              "\n",
              "  <div id=\"df-35a98300-2fc4-4a93-aa6b-e62b953788bf\">\n",
              "    <div class=\"colab-df-container\">\n",
              "      <div>\n",
              "<style scoped>\n",
              "    .dataframe tbody tr th:only-of-type {\n",
              "        vertical-align: middle;\n",
              "    }\n",
              "\n",
              "    .dataframe tbody tr th {\n",
              "        vertical-align: top;\n",
              "    }\n",
              "\n",
              "    .dataframe thead th {\n",
              "        text-align: right;\n",
              "    }\n",
              "</style>\n",
              "<table border=\"1\" class=\"dataframe\">\n",
              "  <thead>\n",
              "    <tr style=\"text-align: right;\">\n",
              "      <th></th>\n",
              "      <th>state</th>\n",
              "      <th>account_length</th>\n",
              "      <th>area_code</th>\n",
              "      <th>international_plan</th>\n",
              "      <th>voice_mail_plan</th>\n",
              "      <th>number_vmail_messages</th>\n",
              "      <th>total_day_minutes</th>\n",
              "      <th>total_day_calls</th>\n",
              "      <th>total_day_charge</th>\n",
              "      <th>total_eve_minutes</th>\n",
              "      <th>total_eve_calls</th>\n",
              "      <th>total_eve_charge</th>\n",
              "      <th>total_night_minutes</th>\n",
              "      <th>total_night_calls</th>\n",
              "      <th>total_night_charge</th>\n",
              "      <th>total_intl_minutes</th>\n",
              "      <th>total_intl_calls</th>\n",
              "      <th>total_intl_charge</th>\n",
              "      <th>number_customer_service_calls</th>\n",
              "      <th>churn</th>\n",
              "    </tr>\n",
              "  </thead>\n",
              "  <tbody>\n",
              "    <tr>\n",
              "      <th>0</th>\n",
              "      <td>OH</td>\n",
              "      <td>107</td>\n",
              "      <td>area_code_415</td>\n",
              "      <td>no</td>\n",
              "      <td>yes</td>\n",
              "      <td>26</td>\n",
              "      <td>161.6</td>\n",
              "      <td>123</td>\n",
              "      <td>27.47</td>\n",
              "      <td>195.5</td>\n",
              "      <td>103</td>\n",
              "      <td>16.62</td>\n",
              "      <td>254.4</td>\n",
              "      <td>103</td>\n",
              "      <td>11.45</td>\n",
              "      <td>13.7</td>\n",
              "      <td>3</td>\n",
              "      <td>3.70</td>\n",
              "      <td>1</td>\n",
              "      <td>no</td>\n",
              "    </tr>\n",
              "    <tr>\n",
              "      <th>1</th>\n",
              "      <td>NJ</td>\n",
              "      <td>137</td>\n",
              "      <td>area_code_415</td>\n",
              "      <td>no</td>\n",
              "      <td>no</td>\n",
              "      <td>0</td>\n",
              "      <td>243.4</td>\n",
              "      <td>114</td>\n",
              "      <td>41.38</td>\n",
              "      <td>121.2</td>\n",
              "      <td>110</td>\n",
              "      <td>10.30</td>\n",
              "      <td>162.6</td>\n",
              "      <td>104</td>\n",
              "      <td>7.32</td>\n",
              "      <td>12.2</td>\n",
              "      <td>5</td>\n",
              "      <td>3.29</td>\n",
              "      <td>0</td>\n",
              "      <td>no</td>\n",
              "    </tr>\n",
              "    <tr>\n",
              "      <th>2</th>\n",
              "      <td>OH</td>\n",
              "      <td>84</td>\n",
              "      <td>area_code_408</td>\n",
              "      <td>yes</td>\n",
              "      <td>no</td>\n",
              "      <td>0</td>\n",
              "      <td>299.4</td>\n",
              "      <td>71</td>\n",
              "      <td>50.90</td>\n",
              "      <td>61.9</td>\n",
              "      <td>88</td>\n",
              "      <td>5.26</td>\n",
              "      <td>196.9</td>\n",
              "      <td>89</td>\n",
              "      <td>8.86</td>\n",
              "      <td>6.6</td>\n",
              "      <td>7</td>\n",
              "      <td>1.78</td>\n",
              "      <td>2</td>\n",
              "      <td>no</td>\n",
              "    </tr>\n",
              "    <tr>\n",
              "      <th>3</th>\n",
              "      <td>OK</td>\n",
              "      <td>75</td>\n",
              "      <td>area_code_415</td>\n",
              "      <td>yes</td>\n",
              "      <td>no</td>\n",
              "      <td>0</td>\n",
              "      <td>166.7</td>\n",
              "      <td>113</td>\n",
              "      <td>28.34</td>\n",
              "      <td>148.3</td>\n",
              "      <td>122</td>\n",
              "      <td>12.61</td>\n",
              "      <td>186.9</td>\n",
              "      <td>121</td>\n",
              "      <td>8.41</td>\n",
              "      <td>10.1</td>\n",
              "      <td>3</td>\n",
              "      <td>2.73</td>\n",
              "      <td>3</td>\n",
              "      <td>no</td>\n",
              "    </tr>\n",
              "    <tr>\n",
              "      <th>4</th>\n",
              "      <td>MA</td>\n",
              "      <td>121</td>\n",
              "      <td>area_code_510</td>\n",
              "      <td>no</td>\n",
              "      <td>yes</td>\n",
              "      <td>24</td>\n",
              "      <td>218.2</td>\n",
              "      <td>88</td>\n",
              "      <td>37.09</td>\n",
              "      <td>348.5</td>\n",
              "      <td>108</td>\n",
              "      <td>29.62</td>\n",
              "      <td>212.6</td>\n",
              "      <td>118</td>\n",
              "      <td>9.57</td>\n",
              "      <td>7.5</td>\n",
              "      <td>7</td>\n",
              "      <td>2.03</td>\n",
              "      <td>3</td>\n",
              "      <td>no</td>\n",
              "    </tr>\n",
              "  </tbody>\n",
              "</table>\n",
              "</div>\n",
              "      <button class=\"colab-df-convert\" onclick=\"convertToInteractive('df-35a98300-2fc4-4a93-aa6b-e62b953788bf')\"\n",
              "              title=\"Convert this dataframe to an interactive table.\"\n",
              "              style=\"display:none;\">\n",
              "        \n",
              "  <svg xmlns=\"http://www.w3.org/2000/svg\" height=\"24px\"viewBox=\"0 0 24 24\"\n",
              "       width=\"24px\">\n",
              "    <path d=\"M0 0h24v24H0V0z\" fill=\"none\"/>\n",
              "    <path d=\"M18.56 5.44l.94 2.06.94-2.06 2.06-.94-2.06-.94-.94-2.06-.94 2.06-2.06.94zm-11 1L8.5 8.5l.94-2.06 2.06-.94-2.06-.94L8.5 2.5l-.94 2.06-2.06.94zm10 10l.94 2.06.94-2.06 2.06-.94-2.06-.94-.94-2.06-.94 2.06-2.06.94z\"/><path d=\"M17.41 7.96l-1.37-1.37c-.4-.4-.92-.59-1.43-.59-.52 0-1.04.2-1.43.59L10.3 9.45l-7.72 7.72c-.78.78-.78 2.05 0 2.83L4 21.41c.39.39.9.59 1.41.59.51 0 1.02-.2 1.41-.59l7.78-7.78 2.81-2.81c.8-.78.8-2.07 0-2.86zM5.41 20L4 18.59l7.72-7.72 1.47 1.35L5.41 20z\"/>\n",
              "  </svg>\n",
              "      </button>\n",
              "      \n",
              "  <style>\n",
              "    .colab-df-container {\n",
              "      display:flex;\n",
              "      flex-wrap:wrap;\n",
              "      gap: 12px;\n",
              "    }\n",
              "\n",
              "    .colab-df-convert {\n",
              "      background-color: #E8F0FE;\n",
              "      border: none;\n",
              "      border-radius: 50%;\n",
              "      cursor: pointer;\n",
              "      display: none;\n",
              "      fill: #1967D2;\n",
              "      height: 32px;\n",
              "      padding: 0 0 0 0;\n",
              "      width: 32px;\n",
              "    }\n",
              "\n",
              "    .colab-df-convert:hover {\n",
              "      background-color: #E2EBFA;\n",
              "      box-shadow: 0px 1px 2px rgba(60, 64, 67, 0.3), 0px 1px 3px 1px rgba(60, 64, 67, 0.15);\n",
              "      fill: #174EA6;\n",
              "    }\n",
              "\n",
              "    [theme=dark] .colab-df-convert {\n",
              "      background-color: #3B4455;\n",
              "      fill: #D2E3FC;\n",
              "    }\n",
              "\n",
              "    [theme=dark] .colab-df-convert:hover {\n",
              "      background-color: #434B5C;\n",
              "      box-shadow: 0px 1px 3px 1px rgba(0, 0, 0, 0.15);\n",
              "      filter: drop-shadow(0px 1px 2px rgba(0, 0, 0, 0.3));\n",
              "      fill: #FFFFFF;\n",
              "    }\n",
              "  </style>\n",
              "\n",
              "      <script>\n",
              "        const buttonEl =\n",
              "          document.querySelector('#df-35a98300-2fc4-4a93-aa6b-e62b953788bf button.colab-df-convert');\n",
              "        buttonEl.style.display =\n",
              "          google.colab.kernel.accessAllowed ? 'block' : 'none';\n",
              "\n",
              "        async function convertToInteractive(key) {\n",
              "          const element = document.querySelector('#df-35a98300-2fc4-4a93-aa6b-e62b953788bf');\n",
              "          const dataTable =\n",
              "            await google.colab.kernel.invokeFunction('convertToInteractive',\n",
              "                                                     [key], {});\n",
              "          if (!dataTable) return;\n",
              "\n",
              "          const docLinkHtml = 'Like what you see? Visit the ' +\n",
              "            '<a target=\"_blank\" href=https://colab.research.google.com/notebooks/data_table.ipynb>data table notebook</a>'\n",
              "            + ' to learn more about interactive tables.';\n",
              "          element.innerHTML = '';\n",
              "          dataTable['output_type'] = 'display_data';\n",
              "          await google.colab.output.renderOutput(dataTable, element);\n",
              "          const docLink = document.createElement('div');\n",
              "          docLink.innerHTML = docLinkHtml;\n",
              "          element.appendChild(docLink);\n",
              "        }\n",
              "      </script>\n",
              "    </div>\n",
              "  </div>\n",
              "  "
            ],
            "text/plain": [
              "  state  account_length  ... number_customer_service_calls churn\n",
              "0    OH             107  ...                             1    no\n",
              "1    NJ             137  ...                             0    no\n",
              "2    OH              84  ...                             2    no\n",
              "3    OK              75  ...                             3    no\n",
              "4    MA             121  ...                             3    no\n",
              "\n",
              "[5 rows x 20 columns]"
            ]
          },
          "metadata": {},
          "execution_count": 1185
        }
      ]
    },
    {
      "cell_type": "code",
      "metadata": {
        "colab": {
          "base_uri": "https://localhost:8080/"
        },
        "id": "sVMEl-TsKu3f",
        "outputId": "ad8fa3ce-835c-4c4e-9dcc-a32d055e6439"
      },
      "source": [
        "# Overview of all variables, their datatypes\n",
        "df.info()"
      ],
      "execution_count": 1186,
      "outputs": [
        {
          "output_type": "stream",
          "name": "stdout",
          "text": [
            "<class 'pandas.core.frame.DataFrame'>\n",
            "RangeIndex: 4250 entries, 0 to 4249\n",
            "Data columns (total 20 columns):\n",
            " #   Column                         Non-Null Count  Dtype  \n",
            "---  ------                         --------------  -----  \n",
            " 0   state                          4250 non-null   object \n",
            " 1   account_length                 4250 non-null   int64  \n",
            " 2   area_code                      4250 non-null   object \n",
            " 3   international_plan             4250 non-null   object \n",
            " 4   voice_mail_plan                4250 non-null   object \n",
            " 5   number_vmail_messages          4250 non-null   int64  \n",
            " 6   total_day_minutes              4250 non-null   float64\n",
            " 7   total_day_calls                4250 non-null   int64  \n",
            " 8   total_day_charge               4250 non-null   float64\n",
            " 9   total_eve_minutes              4250 non-null   float64\n",
            " 10  total_eve_calls                4250 non-null   int64  \n",
            " 11  total_eve_charge               4250 non-null   float64\n",
            " 12  total_night_minutes            4250 non-null   float64\n",
            " 13  total_night_calls              4250 non-null   int64  \n",
            " 14  total_night_charge             4250 non-null   float64\n",
            " 15  total_intl_minutes             4250 non-null   float64\n",
            " 16  total_intl_calls               4250 non-null   int64  \n",
            " 17  total_intl_charge              4250 non-null   float64\n",
            " 18  number_customer_service_calls  4250 non-null   int64  \n",
            " 19  churn                          4250 non-null   object \n",
            "dtypes: float64(8), int64(7), object(5)\n",
            "memory usage: 664.2+ KB\n"
          ]
        }
      ]
    },
    {
      "cell_type": "markdown",
      "metadata": {
        "id": "AxlsGt4YrIM9"
      },
      "source": [
        "**Examine the data**"
      ]
    },
    {
      "cell_type": "markdown",
      "source": [
        "If we run the Pandas value_counts( ) function we will see that this is an imbalanced dataset. "
      ],
      "metadata": {
        "id": "vR_6RcK8R0mV"
      }
    },
    {
      "cell_type": "code",
      "metadata": {
        "colab": {
          "base_uri": "https://localhost:8080/"
        },
        "id": "0Fjo4B3emgW6",
        "outputId": "af861bba-10c3-4094-a512-1a21ed5cf866"
      },
      "source": [
        "df['churn'].value_counts()"
      ],
      "execution_count": 1187,
      "outputs": [
        {
          "output_type": "execute_result",
          "data": {
            "text/plain": [
              "no     3652\n",
              "yes     598\n",
              "Name: churn, dtype: int64"
            ]
          },
          "metadata": {},
          "execution_count": 1187
        }
      ]
    },
    {
      "cell_type": "markdown",
      "metadata": {
        "id": "YHrJk568102c"
      },
      "source": [
        "Since we are aiming for our model to predict customer churn, we need to set this as our target variable for the model to predict. At the moment, the churn column contains a boolean yes or no value, but we need to “binarise” this to turn it into a numeric value the model can use. A simple replace( ) is one of several ways to do this."
      ]
    },
    {
      "cell_type": "code",
      "source": [
        "df['churn'] = df['churn'].replace(('yes', 'no'), (1, 0))"
      ],
      "metadata": {
        "id": "85GnUtEnOMzy"
      },
      "execution_count": 1188,
      "outputs": []
    },
    {
      "cell_type": "markdown",
      "metadata": {
        "id": "WMI6JmbSomu6"
      },
      "source": [
        "**Check for missing values**"
      ]
    },
    {
      "cell_type": "code",
      "metadata": {
        "colab": {
          "base_uri": "https://localhost:8080/"
        },
        "id": "q3q_QEqDot_E",
        "outputId": "50cb15c7-263e-4b6a-c17c-fda6abaabd21"
      },
      "source": [
        "df.isnull().sum()"
      ],
      "execution_count": 1189,
      "outputs": [
        {
          "output_type": "execute_result",
          "data": {
            "text/plain": [
              "state                            0\n",
              "account_length                   0\n",
              "area_code                        0\n",
              "international_plan               0\n",
              "voice_mail_plan                  0\n",
              "number_vmail_messages            0\n",
              "total_day_minutes                0\n",
              "total_day_calls                  0\n",
              "total_day_charge                 0\n",
              "total_eve_minutes                0\n",
              "total_eve_calls                  0\n",
              "total_eve_charge                 0\n",
              "total_night_minutes              0\n",
              "total_night_calls                0\n",
              "total_night_charge               0\n",
              "total_intl_minutes               0\n",
              "total_intl_calls                 0\n",
              "total_intl_charge                0\n",
              "number_customer_service_calls    0\n",
              "churn                            0\n",
              "dtype: int64"
            ]
          },
          "metadata": {},
          "execution_count": 1189
        }
      ]
    },
    {
      "cell_type": "markdown",
      "metadata": {
        "id": "2TZ12sRAoz_v"
      },
      "source": [
        "We don’t have any missing data. We are good to go."
      ]
    },
    {
      "cell_type": "markdown",
      "source": [
        "**Examine categorical data cardinality**"
      ],
      "metadata": {
        "id": "LllDyHIdSZrz"
      }
    },
    {
      "cell_type": "markdown",
      "source": [
        "Next we will take a look at the “cardinality” of the categorical variables. Cardinality is just a technical way of saying the number of unique values held within. Columns with low cardinality, such as area_code, international_plan, and voice_mail_plan can be treated differently to the state column which has a high cardinality of 51."
      ],
      "metadata": {
        "id": "08A1Xk5pSjzQ"
      }
    },
    {
      "cell_type": "code",
      "source": [
        "df.select_dtypes(include = ['object']).agg(['count', 'nunique']).T"
      ],
      "metadata": {
        "colab": {
          "base_uri": "https://localhost:8080/",
          "height": 173
        },
        "id": "xk5cJIClSt9l",
        "outputId": "54951328-f0cd-4ec2-ab71-2665b48e1ffd"
      },
      "execution_count": 1190,
      "outputs": [
        {
          "output_type": "execute_result",
          "data": {
            "text/html": [
              "\n",
              "  <div id=\"df-443c2779-98db-46ad-ba47-db5ce092f0ff\">\n",
              "    <div class=\"colab-df-container\">\n",
              "      <div>\n",
              "<style scoped>\n",
              "    .dataframe tbody tr th:only-of-type {\n",
              "        vertical-align: middle;\n",
              "    }\n",
              "\n",
              "    .dataframe tbody tr th {\n",
              "        vertical-align: top;\n",
              "    }\n",
              "\n",
              "    .dataframe thead th {\n",
              "        text-align: right;\n",
              "    }\n",
              "</style>\n",
              "<table border=\"1\" class=\"dataframe\">\n",
              "  <thead>\n",
              "    <tr style=\"text-align: right;\">\n",
              "      <th></th>\n",
              "      <th>count</th>\n",
              "      <th>nunique</th>\n",
              "    </tr>\n",
              "  </thead>\n",
              "  <tbody>\n",
              "    <tr>\n",
              "      <th>state</th>\n",
              "      <td>4250</td>\n",
              "      <td>51</td>\n",
              "    </tr>\n",
              "    <tr>\n",
              "      <th>area_code</th>\n",
              "      <td>4250</td>\n",
              "      <td>3</td>\n",
              "    </tr>\n",
              "    <tr>\n",
              "      <th>international_plan</th>\n",
              "      <td>4250</td>\n",
              "      <td>2</td>\n",
              "    </tr>\n",
              "    <tr>\n",
              "      <th>voice_mail_plan</th>\n",
              "      <td>4250</td>\n",
              "      <td>2</td>\n",
              "    </tr>\n",
              "  </tbody>\n",
              "</table>\n",
              "</div>\n",
              "      <button class=\"colab-df-convert\" onclick=\"convertToInteractive('df-443c2779-98db-46ad-ba47-db5ce092f0ff')\"\n",
              "              title=\"Convert this dataframe to an interactive table.\"\n",
              "              style=\"display:none;\">\n",
              "        \n",
              "  <svg xmlns=\"http://www.w3.org/2000/svg\" height=\"24px\"viewBox=\"0 0 24 24\"\n",
              "       width=\"24px\">\n",
              "    <path d=\"M0 0h24v24H0V0z\" fill=\"none\"/>\n",
              "    <path d=\"M18.56 5.44l.94 2.06.94-2.06 2.06-.94-2.06-.94-.94-2.06-.94 2.06-2.06.94zm-11 1L8.5 8.5l.94-2.06 2.06-.94-2.06-.94L8.5 2.5l-.94 2.06-2.06.94zm10 10l.94 2.06.94-2.06 2.06-.94-2.06-.94-.94-2.06-.94 2.06-2.06.94z\"/><path d=\"M17.41 7.96l-1.37-1.37c-.4-.4-.92-.59-1.43-.59-.52 0-1.04.2-1.43.59L10.3 9.45l-7.72 7.72c-.78.78-.78 2.05 0 2.83L4 21.41c.39.39.9.59 1.41.59.51 0 1.02-.2 1.41-.59l7.78-7.78 2.81-2.81c.8-.78.8-2.07 0-2.86zM5.41 20L4 18.59l7.72-7.72 1.47 1.35L5.41 20z\"/>\n",
              "  </svg>\n",
              "      </button>\n",
              "      \n",
              "  <style>\n",
              "    .colab-df-container {\n",
              "      display:flex;\n",
              "      flex-wrap:wrap;\n",
              "      gap: 12px;\n",
              "    }\n",
              "\n",
              "    .colab-df-convert {\n",
              "      background-color: #E8F0FE;\n",
              "      border: none;\n",
              "      border-radius: 50%;\n",
              "      cursor: pointer;\n",
              "      display: none;\n",
              "      fill: #1967D2;\n",
              "      height: 32px;\n",
              "      padding: 0 0 0 0;\n",
              "      width: 32px;\n",
              "    }\n",
              "\n",
              "    .colab-df-convert:hover {\n",
              "      background-color: #E2EBFA;\n",
              "      box-shadow: 0px 1px 2px rgba(60, 64, 67, 0.3), 0px 1px 3px 1px rgba(60, 64, 67, 0.15);\n",
              "      fill: #174EA6;\n",
              "    }\n",
              "\n",
              "    [theme=dark] .colab-df-convert {\n",
              "      background-color: #3B4455;\n",
              "      fill: #D2E3FC;\n",
              "    }\n",
              "\n",
              "    [theme=dark] .colab-df-convert:hover {\n",
              "      background-color: #434B5C;\n",
              "      box-shadow: 0px 1px 3px 1px rgba(0, 0, 0, 0.15);\n",
              "      filter: drop-shadow(0px 1px 2px rgba(0, 0, 0, 0.3));\n",
              "      fill: #FFFFFF;\n",
              "    }\n",
              "  </style>\n",
              "\n",
              "      <script>\n",
              "        const buttonEl =\n",
              "          document.querySelector('#df-443c2779-98db-46ad-ba47-db5ce092f0ff button.colab-df-convert');\n",
              "        buttonEl.style.display =\n",
              "          google.colab.kernel.accessAllowed ? 'block' : 'none';\n",
              "\n",
              "        async function convertToInteractive(key) {\n",
              "          const element = document.querySelector('#df-443c2779-98db-46ad-ba47-db5ce092f0ff');\n",
              "          const dataTable =\n",
              "            await google.colab.kernel.invokeFunction('convertToInteractive',\n",
              "                                                     [key], {});\n",
              "          if (!dataTable) return;\n",
              "\n",
              "          const docLinkHtml = 'Like what you see? Visit the ' +\n",
              "            '<a target=\"_blank\" href=https://colab.research.google.com/notebooks/data_table.ipynb>data table notebook</a>'\n",
              "            + ' to learn more about interactive tables.';\n",
              "          element.innerHTML = '';\n",
              "          dataTable['output_type'] = 'display_data';\n",
              "          await google.colab.output.renderOutput(dataTable, element);\n",
              "          const docLink = document.createElement('div');\n",
              "          docLink.innerHTML = docLinkHtml;\n",
              "          element.appendChild(docLink);\n",
              "        }\n",
              "      </script>\n",
              "    </div>\n",
              "  </div>\n",
              "  "
            ],
            "text/plain": [
              "                    count  nunique\n",
              "state                4250       51\n",
              "area_code            4250        3\n",
              "international_plan   4250        2\n",
              "voice_mail_plan      4250        2"
            ]
          },
          "metadata": {},
          "execution_count": 1190
        }
      ]
    },
    {
      "cell_type": "markdown",
      "source": [
        "**Feature engineering**"
      ],
      "metadata": {
        "id": "1-ciupRuTXyp"
      }
    },
    {
      "cell_type": "markdown",
      "source": [
        "The international_plan and voice_mail_plan columns are currently set to Boolean values, so we first need to binarise these, which we can do with the replace( ) function."
      ],
      "metadata": {
        "id": "JEFNawWTThy5"
      }
    },
    {
      "cell_type": "code",
      "metadata": {
        "id": "VrNAGSmLAgjS"
      },
      "source": [
        "df['international_plan'] = df['international_plan'].replace(('yes', 'no'), (1, 0))\n",
        "df['voice_mail_plan'] = df['voice_mail_plan'].replace(('yes', 'no'), (1, 0))"
      ],
      "execution_count": 1191,
      "outputs": []
    },
    {
      "cell_type": "markdown",
      "source": [
        "We can also do some maths and calculate the call charge rate for each customer to see if this can help improve the model’s predictions. Maybe customers faced with higher charges are more likely to churn? To calculate the call charge rate, I have created a little function that divides the charges by the number of minutes and then assigns the values to a new column. We will use this approach for day, night, international, and evening call charges."
      ],
      "metadata": {
        "id": "jYIOOhEmff1S"
      }
    },
    {
      "cell_type": "code",
      "source": [
        "def call_charge_rate(df, minutes_column, charges_column):\n",
        "    \n",
        "    return df[charges_column] / df[minutes_column]"
      ],
      "metadata": {
        "id": "ZrVJJrSH8MbS"
      },
      "execution_count": 1192,
      "outputs": []
    },
    {
      "cell_type": "code",
      "source": [
        "df['charge_rate_day'] = call_charge_rate(df, 'total_day_minutes', 'total_day_charge')\n",
        "df['charge_rate_night'] = call_charge_rate(df, 'total_night_minutes', 'total_night_charge')\n",
        "df['charge_rate_intl'] = call_charge_rate(df, 'total_intl_minutes', 'total_intl_charge')\n",
        "df['charge_rate_eve'] = call_charge_rate(df, 'total_eve_minutes', 'total_eve_charge')"
      ],
      "metadata": {
        "id": "jjaM0AH789a1"
      },
      "execution_count": 1193,
      "outputs": []
    },
    {
      "cell_type": "code",
      "source": [
        "df = df.fillna(0)"
      ],
      "metadata": {
        "id": "GmkweGx3_Kx3"
      },
      "execution_count": 1194,
      "outputs": []
    },
    {
      "cell_type": "markdown",
      "source": [
        "Next, we will use a clever technique called mean encoding. This is often very powerful. It works by calculating the mean of the target variable for a given group. For example, what is the mean churn rate for customers by state? Are those in some states more likely to churn that others? We can use the same technique for other columns where there’s a natural grouping, such as the customers on the international plan and the voice mail plan."
      ],
      "metadata": {
        "id": "ctEppZSzEcU5"
      }
    },
    {
      "cell_type": "code",
      "source": [
        "def get_mean_encoding(df, group, target):\n",
        "\n",
        "    mean_encoded = df.groupby(group)[target].mean()\n",
        "    \n",
        "    return df[group].map(mean_encoded)"
      ],
      "metadata": {
        "id": "d6Dl_467EWZQ"
      },
      "execution_count": 1195,
      "outputs": []
    },
    {
      "cell_type": "code",
      "source": [
        "df['mean_encoded_state'] = get_mean_encoding(df, 'state', 'churn')\n",
        "df['mean_encoded_international_plan'] = get_mean_encoding(df, 'international_plan', 'churn')\n",
        "df['mean_encoded_voice_mail_plan'] = get_mean_encoding(df, 'voice_mail_plan', 'churn')"
      ],
      "metadata": {
        "id": "VfOEe_H8Er4a"
      },
      "execution_count": 1196,
      "outputs": []
    },
    {
      "cell_type": "code",
      "source": [
        "import pandas.util.testing as tm\n",
        "import category_encoders as ce"
      ],
      "metadata": {
        "id": "5_9jX_W9E8m4"
      },
      "execution_count": 1197,
      "outputs": []
    },
    {
      "cell_type": "code",
      "source": [
        "encoder = ce.BinaryEncoder(cols = ['state'])\n",
        "df = encoder.fit_transform(df)\n",
        "df.head()"
      ],
      "metadata": {
        "id": "XikW4KGvFSM7",
        "colab": {
          "base_uri": "https://localhost:8080/",
          "height": 268
        },
        "outputId": "985e578b-c7b4-4f7e-ddcb-72294a30966c"
      },
      "execution_count": 1198,
      "outputs": [
        {
          "output_type": "execute_result",
          "data": {
            "text/html": [
              "\n",
              "  <div id=\"df-6c804cb7-fbcb-4440-8338-8679b94551ae\">\n",
              "    <div class=\"colab-df-container\">\n",
              "      <div>\n",
              "<style scoped>\n",
              "    .dataframe tbody tr th:only-of-type {\n",
              "        vertical-align: middle;\n",
              "    }\n",
              "\n",
              "    .dataframe tbody tr th {\n",
              "        vertical-align: top;\n",
              "    }\n",
              "\n",
              "    .dataframe thead th {\n",
              "        text-align: right;\n",
              "    }\n",
              "</style>\n",
              "<table border=\"1\" class=\"dataframe\">\n",
              "  <thead>\n",
              "    <tr style=\"text-align: right;\">\n",
              "      <th></th>\n",
              "      <th>state_0</th>\n",
              "      <th>state_1</th>\n",
              "      <th>state_2</th>\n",
              "      <th>state_3</th>\n",
              "      <th>state_4</th>\n",
              "      <th>state_5</th>\n",
              "      <th>account_length</th>\n",
              "      <th>area_code</th>\n",
              "      <th>international_plan</th>\n",
              "      <th>voice_mail_plan</th>\n",
              "      <th>number_vmail_messages</th>\n",
              "      <th>total_day_minutes</th>\n",
              "      <th>total_day_calls</th>\n",
              "      <th>total_day_charge</th>\n",
              "      <th>total_eve_minutes</th>\n",
              "      <th>total_eve_calls</th>\n",
              "      <th>total_eve_charge</th>\n",
              "      <th>total_night_minutes</th>\n",
              "      <th>total_night_calls</th>\n",
              "      <th>total_night_charge</th>\n",
              "      <th>total_intl_minutes</th>\n",
              "      <th>total_intl_calls</th>\n",
              "      <th>total_intl_charge</th>\n",
              "      <th>number_customer_service_calls</th>\n",
              "      <th>churn</th>\n",
              "      <th>charge_rate_day</th>\n",
              "      <th>charge_rate_night</th>\n",
              "      <th>charge_rate_intl</th>\n",
              "      <th>charge_rate_eve</th>\n",
              "      <th>mean_encoded_state</th>\n",
              "      <th>mean_encoded_international_plan</th>\n",
              "      <th>mean_encoded_voice_mail_plan</th>\n",
              "    </tr>\n",
              "  </thead>\n",
              "  <tbody>\n",
              "    <tr>\n",
              "      <th>0</th>\n",
              "      <td>0</td>\n",
              "      <td>0</td>\n",
              "      <td>0</td>\n",
              "      <td>0</td>\n",
              "      <td>0</td>\n",
              "      <td>1</td>\n",
              "      <td>107</td>\n",
              "      <td>area_code_415</td>\n",
              "      <td>0</td>\n",
              "      <td>1</td>\n",
              "      <td>26</td>\n",
              "      <td>161.6</td>\n",
              "      <td>123</td>\n",
              "      <td>27.47</td>\n",
              "      <td>195.5</td>\n",
              "      <td>103</td>\n",
              "      <td>16.62</td>\n",
              "      <td>254.4</td>\n",
              "      <td>103</td>\n",
              "      <td>11.45</td>\n",
              "      <td>13.7</td>\n",
              "      <td>3</td>\n",
              "      <td>3.70</td>\n",
              "      <td>1</td>\n",
              "      <td>0</td>\n",
              "      <td>0.169988</td>\n",
              "      <td>0.045008</td>\n",
              "      <td>0.270073</td>\n",
              "      <td>0.085013</td>\n",
              "      <td>0.126316</td>\n",
              "      <td>0.111832</td>\n",
              "      <td>0.073741</td>\n",
              "    </tr>\n",
              "    <tr>\n",
              "      <th>1</th>\n",
              "      <td>0</td>\n",
              "      <td>0</td>\n",
              "      <td>0</td>\n",
              "      <td>0</td>\n",
              "      <td>1</td>\n",
              "      <td>0</td>\n",
              "      <td>137</td>\n",
              "      <td>area_code_415</td>\n",
              "      <td>0</td>\n",
              "      <td>0</td>\n",
              "      <td>0</td>\n",
              "      <td>243.4</td>\n",
              "      <td>114</td>\n",
              "      <td>41.38</td>\n",
              "      <td>121.2</td>\n",
              "      <td>110</td>\n",
              "      <td>10.30</td>\n",
              "      <td>162.6</td>\n",
              "      <td>104</td>\n",
              "      <td>7.32</td>\n",
              "      <td>12.2</td>\n",
              "      <td>5</td>\n",
              "      <td>3.29</td>\n",
              "      <td>0</td>\n",
              "      <td>0</td>\n",
              "      <td>0.170008</td>\n",
              "      <td>0.045018</td>\n",
              "      <td>0.269672</td>\n",
              "      <td>0.084983</td>\n",
              "      <td>0.270833</td>\n",
              "      <td>0.111832</td>\n",
              "      <td>0.164436</td>\n",
              "    </tr>\n",
              "    <tr>\n",
              "      <th>2</th>\n",
              "      <td>0</td>\n",
              "      <td>0</td>\n",
              "      <td>0</td>\n",
              "      <td>0</td>\n",
              "      <td>0</td>\n",
              "      <td>1</td>\n",
              "      <td>84</td>\n",
              "      <td>area_code_408</td>\n",
              "      <td>1</td>\n",
              "      <td>0</td>\n",
              "      <td>0</td>\n",
              "      <td>299.4</td>\n",
              "      <td>71</td>\n",
              "      <td>50.90</td>\n",
              "      <td>61.9</td>\n",
              "      <td>88</td>\n",
              "      <td>5.26</td>\n",
              "      <td>196.9</td>\n",
              "      <td>89</td>\n",
              "      <td>8.86</td>\n",
              "      <td>6.6</td>\n",
              "      <td>7</td>\n",
              "      <td>1.78</td>\n",
              "      <td>2</td>\n",
              "      <td>0</td>\n",
              "      <td>0.170007</td>\n",
              "      <td>0.044997</td>\n",
              "      <td>0.269697</td>\n",
              "      <td>0.084976</td>\n",
              "      <td>0.126316</td>\n",
              "      <td>0.421717</td>\n",
              "      <td>0.164436</td>\n",
              "    </tr>\n",
              "    <tr>\n",
              "      <th>3</th>\n",
              "      <td>0</td>\n",
              "      <td>0</td>\n",
              "      <td>0</td>\n",
              "      <td>0</td>\n",
              "      <td>1</td>\n",
              "      <td>1</td>\n",
              "      <td>75</td>\n",
              "      <td>area_code_415</td>\n",
              "      <td>1</td>\n",
              "      <td>0</td>\n",
              "      <td>0</td>\n",
              "      <td>166.7</td>\n",
              "      <td>113</td>\n",
              "      <td>28.34</td>\n",
              "      <td>148.3</td>\n",
              "      <td>122</td>\n",
              "      <td>12.61</td>\n",
              "      <td>186.9</td>\n",
              "      <td>121</td>\n",
              "      <td>8.41</td>\n",
              "      <td>10.1</td>\n",
              "      <td>3</td>\n",
              "      <td>2.73</td>\n",
              "      <td>3</td>\n",
              "      <td>0</td>\n",
              "      <td>0.170006</td>\n",
              "      <td>0.044997</td>\n",
              "      <td>0.270297</td>\n",
              "      <td>0.085030</td>\n",
              "      <td>0.205128</td>\n",
              "      <td>0.421717</td>\n",
              "      <td>0.164436</td>\n",
              "    </tr>\n",
              "    <tr>\n",
              "      <th>4</th>\n",
              "      <td>0</td>\n",
              "      <td>0</td>\n",
              "      <td>0</td>\n",
              "      <td>1</td>\n",
              "      <td>0</td>\n",
              "      <td>0</td>\n",
              "      <td>121</td>\n",
              "      <td>area_code_510</td>\n",
              "      <td>0</td>\n",
              "      <td>1</td>\n",
              "      <td>24</td>\n",
              "      <td>218.2</td>\n",
              "      <td>88</td>\n",
              "      <td>37.09</td>\n",
              "      <td>348.5</td>\n",
              "      <td>108</td>\n",
              "      <td>29.62</td>\n",
              "      <td>212.6</td>\n",
              "      <td>118</td>\n",
              "      <td>9.57</td>\n",
              "      <td>7.5</td>\n",
              "      <td>7</td>\n",
              "      <td>2.03</td>\n",
              "      <td>3</td>\n",
              "      <td>0</td>\n",
              "      <td>0.169982</td>\n",
              "      <td>0.045014</td>\n",
              "      <td>0.270667</td>\n",
              "      <td>0.084993</td>\n",
              "      <td>0.157303</td>\n",
              "      <td>0.111832</td>\n",
              "      <td>0.073741</td>\n",
              "    </tr>\n",
              "  </tbody>\n",
              "</table>\n",
              "</div>\n",
              "      <button class=\"colab-df-convert\" onclick=\"convertToInteractive('df-6c804cb7-fbcb-4440-8338-8679b94551ae')\"\n",
              "              title=\"Convert this dataframe to an interactive table.\"\n",
              "              style=\"display:none;\">\n",
              "        \n",
              "  <svg xmlns=\"http://www.w3.org/2000/svg\" height=\"24px\"viewBox=\"0 0 24 24\"\n",
              "       width=\"24px\">\n",
              "    <path d=\"M0 0h24v24H0V0z\" fill=\"none\"/>\n",
              "    <path d=\"M18.56 5.44l.94 2.06.94-2.06 2.06-.94-2.06-.94-.94-2.06-.94 2.06-2.06.94zm-11 1L8.5 8.5l.94-2.06 2.06-.94-2.06-.94L8.5 2.5l-.94 2.06-2.06.94zm10 10l.94 2.06.94-2.06 2.06-.94-2.06-.94-.94-2.06-.94 2.06-2.06.94z\"/><path d=\"M17.41 7.96l-1.37-1.37c-.4-.4-.92-.59-1.43-.59-.52 0-1.04.2-1.43.59L10.3 9.45l-7.72 7.72c-.78.78-.78 2.05 0 2.83L4 21.41c.39.39.9.59 1.41.59.51 0 1.02-.2 1.41-.59l7.78-7.78 2.81-2.81c.8-.78.8-2.07 0-2.86zM5.41 20L4 18.59l7.72-7.72 1.47 1.35L5.41 20z\"/>\n",
              "  </svg>\n",
              "      </button>\n",
              "      \n",
              "  <style>\n",
              "    .colab-df-container {\n",
              "      display:flex;\n",
              "      flex-wrap:wrap;\n",
              "      gap: 12px;\n",
              "    }\n",
              "\n",
              "    .colab-df-convert {\n",
              "      background-color: #E8F0FE;\n",
              "      border: none;\n",
              "      border-radius: 50%;\n",
              "      cursor: pointer;\n",
              "      display: none;\n",
              "      fill: #1967D2;\n",
              "      height: 32px;\n",
              "      padding: 0 0 0 0;\n",
              "      width: 32px;\n",
              "    }\n",
              "\n",
              "    .colab-df-convert:hover {\n",
              "      background-color: #E2EBFA;\n",
              "      box-shadow: 0px 1px 2px rgba(60, 64, 67, 0.3), 0px 1px 3px 1px rgba(60, 64, 67, 0.15);\n",
              "      fill: #174EA6;\n",
              "    }\n",
              "\n",
              "    [theme=dark] .colab-df-convert {\n",
              "      background-color: #3B4455;\n",
              "      fill: #D2E3FC;\n",
              "    }\n",
              "\n",
              "    [theme=dark] .colab-df-convert:hover {\n",
              "      background-color: #434B5C;\n",
              "      box-shadow: 0px 1px 3px 1px rgba(0, 0, 0, 0.15);\n",
              "      filter: drop-shadow(0px 1px 2px rgba(0, 0, 0, 0.3));\n",
              "      fill: #FFFFFF;\n",
              "    }\n",
              "  </style>\n",
              "\n",
              "      <script>\n",
              "        const buttonEl =\n",
              "          document.querySelector('#df-6c804cb7-fbcb-4440-8338-8679b94551ae button.colab-df-convert');\n",
              "        buttonEl.style.display =\n",
              "          google.colab.kernel.accessAllowed ? 'block' : 'none';\n",
              "\n",
              "        async function convertToInteractive(key) {\n",
              "          const element = document.querySelector('#df-6c804cb7-fbcb-4440-8338-8679b94551ae');\n",
              "          const dataTable =\n",
              "            await google.colab.kernel.invokeFunction('convertToInteractive',\n",
              "                                                     [key], {});\n",
              "          if (!dataTable) return;\n",
              "\n",
              "          const docLinkHtml = 'Like what you see? Visit the ' +\n",
              "            '<a target=\"_blank\" href=https://colab.research.google.com/notebooks/data_table.ipynb>data table notebook</a>'\n",
              "            + ' to learn more about interactive tables.';\n",
              "          element.innerHTML = '';\n",
              "          dataTable['output_type'] = 'display_data';\n",
              "          await google.colab.output.renderOutput(dataTable, element);\n",
              "          const docLink = document.createElement('div');\n",
              "          docLink.innerHTML = docLinkHtml;\n",
              "          element.appendChild(docLink);\n",
              "        }\n",
              "      </script>\n",
              "    </div>\n",
              "  </div>\n",
              "  "
            ],
            "text/plain": [
              "   state_0  ...  mean_encoded_voice_mail_plan\n",
              "0        0  ...                      0.073741\n",
              "1        0  ...                      0.164436\n",
              "2        0  ...                      0.164436\n",
              "3        0  ...                      0.164436\n",
              "4        0  ...                      0.073741\n",
              "\n",
              "[5 rows x 32 columns]"
            ]
          },
          "metadata": {},
          "execution_count": 1198
        }
      ]
    },
    {
      "cell_type": "code",
      "source": [
        "encoder = ce.OneHotEncoder(cols = ['area_code'], use_cat_names = True)\n",
        "df = encoder.fit_transform(df)\n",
        "df.head()"
      ],
      "metadata": {
        "id": "zkx080DzHE5g",
        "colab": {
          "base_uri": "https://localhost:8080/",
          "height": 268
        },
        "outputId": "0f22d804-d6c5-4f2b-8fa0-5c7ecab2bf02"
      },
      "execution_count": 1199,
      "outputs": [
        {
          "output_type": "execute_result",
          "data": {
            "text/html": [
              "\n",
              "  <div id=\"df-a5123c90-4b78-4c35-8880-a7b220f948dc\">\n",
              "    <div class=\"colab-df-container\">\n",
              "      <div>\n",
              "<style scoped>\n",
              "    .dataframe tbody tr th:only-of-type {\n",
              "        vertical-align: middle;\n",
              "    }\n",
              "\n",
              "    .dataframe tbody tr th {\n",
              "        vertical-align: top;\n",
              "    }\n",
              "\n",
              "    .dataframe thead th {\n",
              "        text-align: right;\n",
              "    }\n",
              "</style>\n",
              "<table border=\"1\" class=\"dataframe\">\n",
              "  <thead>\n",
              "    <tr style=\"text-align: right;\">\n",
              "      <th></th>\n",
              "      <th>state_0</th>\n",
              "      <th>state_1</th>\n",
              "      <th>state_2</th>\n",
              "      <th>state_3</th>\n",
              "      <th>state_4</th>\n",
              "      <th>state_5</th>\n",
              "      <th>account_length</th>\n",
              "      <th>area_code_area_code_415</th>\n",
              "      <th>area_code_area_code_408</th>\n",
              "      <th>area_code_area_code_510</th>\n",
              "      <th>international_plan</th>\n",
              "      <th>voice_mail_plan</th>\n",
              "      <th>number_vmail_messages</th>\n",
              "      <th>total_day_minutes</th>\n",
              "      <th>total_day_calls</th>\n",
              "      <th>total_day_charge</th>\n",
              "      <th>total_eve_minutes</th>\n",
              "      <th>total_eve_calls</th>\n",
              "      <th>total_eve_charge</th>\n",
              "      <th>total_night_minutes</th>\n",
              "      <th>total_night_calls</th>\n",
              "      <th>total_night_charge</th>\n",
              "      <th>total_intl_minutes</th>\n",
              "      <th>total_intl_calls</th>\n",
              "      <th>total_intl_charge</th>\n",
              "      <th>number_customer_service_calls</th>\n",
              "      <th>churn</th>\n",
              "      <th>charge_rate_day</th>\n",
              "      <th>charge_rate_night</th>\n",
              "      <th>charge_rate_intl</th>\n",
              "      <th>charge_rate_eve</th>\n",
              "      <th>mean_encoded_state</th>\n",
              "      <th>mean_encoded_international_plan</th>\n",
              "      <th>mean_encoded_voice_mail_plan</th>\n",
              "    </tr>\n",
              "  </thead>\n",
              "  <tbody>\n",
              "    <tr>\n",
              "      <th>0</th>\n",
              "      <td>0</td>\n",
              "      <td>0</td>\n",
              "      <td>0</td>\n",
              "      <td>0</td>\n",
              "      <td>0</td>\n",
              "      <td>1</td>\n",
              "      <td>107</td>\n",
              "      <td>1</td>\n",
              "      <td>0</td>\n",
              "      <td>0</td>\n",
              "      <td>0</td>\n",
              "      <td>1</td>\n",
              "      <td>26</td>\n",
              "      <td>161.6</td>\n",
              "      <td>123</td>\n",
              "      <td>27.47</td>\n",
              "      <td>195.5</td>\n",
              "      <td>103</td>\n",
              "      <td>16.62</td>\n",
              "      <td>254.4</td>\n",
              "      <td>103</td>\n",
              "      <td>11.45</td>\n",
              "      <td>13.7</td>\n",
              "      <td>3</td>\n",
              "      <td>3.70</td>\n",
              "      <td>1</td>\n",
              "      <td>0</td>\n",
              "      <td>0.169988</td>\n",
              "      <td>0.045008</td>\n",
              "      <td>0.270073</td>\n",
              "      <td>0.085013</td>\n",
              "      <td>0.126316</td>\n",
              "      <td>0.111832</td>\n",
              "      <td>0.073741</td>\n",
              "    </tr>\n",
              "    <tr>\n",
              "      <th>1</th>\n",
              "      <td>0</td>\n",
              "      <td>0</td>\n",
              "      <td>0</td>\n",
              "      <td>0</td>\n",
              "      <td>1</td>\n",
              "      <td>0</td>\n",
              "      <td>137</td>\n",
              "      <td>1</td>\n",
              "      <td>0</td>\n",
              "      <td>0</td>\n",
              "      <td>0</td>\n",
              "      <td>0</td>\n",
              "      <td>0</td>\n",
              "      <td>243.4</td>\n",
              "      <td>114</td>\n",
              "      <td>41.38</td>\n",
              "      <td>121.2</td>\n",
              "      <td>110</td>\n",
              "      <td>10.30</td>\n",
              "      <td>162.6</td>\n",
              "      <td>104</td>\n",
              "      <td>7.32</td>\n",
              "      <td>12.2</td>\n",
              "      <td>5</td>\n",
              "      <td>3.29</td>\n",
              "      <td>0</td>\n",
              "      <td>0</td>\n",
              "      <td>0.170008</td>\n",
              "      <td>0.045018</td>\n",
              "      <td>0.269672</td>\n",
              "      <td>0.084983</td>\n",
              "      <td>0.270833</td>\n",
              "      <td>0.111832</td>\n",
              "      <td>0.164436</td>\n",
              "    </tr>\n",
              "    <tr>\n",
              "      <th>2</th>\n",
              "      <td>0</td>\n",
              "      <td>0</td>\n",
              "      <td>0</td>\n",
              "      <td>0</td>\n",
              "      <td>0</td>\n",
              "      <td>1</td>\n",
              "      <td>84</td>\n",
              "      <td>0</td>\n",
              "      <td>1</td>\n",
              "      <td>0</td>\n",
              "      <td>1</td>\n",
              "      <td>0</td>\n",
              "      <td>0</td>\n",
              "      <td>299.4</td>\n",
              "      <td>71</td>\n",
              "      <td>50.90</td>\n",
              "      <td>61.9</td>\n",
              "      <td>88</td>\n",
              "      <td>5.26</td>\n",
              "      <td>196.9</td>\n",
              "      <td>89</td>\n",
              "      <td>8.86</td>\n",
              "      <td>6.6</td>\n",
              "      <td>7</td>\n",
              "      <td>1.78</td>\n",
              "      <td>2</td>\n",
              "      <td>0</td>\n",
              "      <td>0.170007</td>\n",
              "      <td>0.044997</td>\n",
              "      <td>0.269697</td>\n",
              "      <td>0.084976</td>\n",
              "      <td>0.126316</td>\n",
              "      <td>0.421717</td>\n",
              "      <td>0.164436</td>\n",
              "    </tr>\n",
              "    <tr>\n",
              "      <th>3</th>\n",
              "      <td>0</td>\n",
              "      <td>0</td>\n",
              "      <td>0</td>\n",
              "      <td>0</td>\n",
              "      <td>1</td>\n",
              "      <td>1</td>\n",
              "      <td>75</td>\n",
              "      <td>1</td>\n",
              "      <td>0</td>\n",
              "      <td>0</td>\n",
              "      <td>1</td>\n",
              "      <td>0</td>\n",
              "      <td>0</td>\n",
              "      <td>166.7</td>\n",
              "      <td>113</td>\n",
              "      <td>28.34</td>\n",
              "      <td>148.3</td>\n",
              "      <td>122</td>\n",
              "      <td>12.61</td>\n",
              "      <td>186.9</td>\n",
              "      <td>121</td>\n",
              "      <td>8.41</td>\n",
              "      <td>10.1</td>\n",
              "      <td>3</td>\n",
              "      <td>2.73</td>\n",
              "      <td>3</td>\n",
              "      <td>0</td>\n",
              "      <td>0.170006</td>\n",
              "      <td>0.044997</td>\n",
              "      <td>0.270297</td>\n",
              "      <td>0.085030</td>\n",
              "      <td>0.205128</td>\n",
              "      <td>0.421717</td>\n",
              "      <td>0.164436</td>\n",
              "    </tr>\n",
              "    <tr>\n",
              "      <th>4</th>\n",
              "      <td>0</td>\n",
              "      <td>0</td>\n",
              "      <td>0</td>\n",
              "      <td>1</td>\n",
              "      <td>0</td>\n",
              "      <td>0</td>\n",
              "      <td>121</td>\n",
              "      <td>0</td>\n",
              "      <td>0</td>\n",
              "      <td>1</td>\n",
              "      <td>0</td>\n",
              "      <td>1</td>\n",
              "      <td>24</td>\n",
              "      <td>218.2</td>\n",
              "      <td>88</td>\n",
              "      <td>37.09</td>\n",
              "      <td>348.5</td>\n",
              "      <td>108</td>\n",
              "      <td>29.62</td>\n",
              "      <td>212.6</td>\n",
              "      <td>118</td>\n",
              "      <td>9.57</td>\n",
              "      <td>7.5</td>\n",
              "      <td>7</td>\n",
              "      <td>2.03</td>\n",
              "      <td>3</td>\n",
              "      <td>0</td>\n",
              "      <td>0.169982</td>\n",
              "      <td>0.045014</td>\n",
              "      <td>0.270667</td>\n",
              "      <td>0.084993</td>\n",
              "      <td>0.157303</td>\n",
              "      <td>0.111832</td>\n",
              "      <td>0.073741</td>\n",
              "    </tr>\n",
              "  </tbody>\n",
              "</table>\n",
              "</div>\n",
              "      <button class=\"colab-df-convert\" onclick=\"convertToInteractive('df-a5123c90-4b78-4c35-8880-a7b220f948dc')\"\n",
              "              title=\"Convert this dataframe to an interactive table.\"\n",
              "              style=\"display:none;\">\n",
              "        \n",
              "  <svg xmlns=\"http://www.w3.org/2000/svg\" height=\"24px\"viewBox=\"0 0 24 24\"\n",
              "       width=\"24px\">\n",
              "    <path d=\"M0 0h24v24H0V0z\" fill=\"none\"/>\n",
              "    <path d=\"M18.56 5.44l.94 2.06.94-2.06 2.06-.94-2.06-.94-.94-2.06-.94 2.06-2.06.94zm-11 1L8.5 8.5l.94-2.06 2.06-.94-2.06-.94L8.5 2.5l-.94 2.06-2.06.94zm10 10l.94 2.06.94-2.06 2.06-.94-2.06-.94-.94-2.06-.94 2.06-2.06.94z\"/><path d=\"M17.41 7.96l-1.37-1.37c-.4-.4-.92-.59-1.43-.59-.52 0-1.04.2-1.43.59L10.3 9.45l-7.72 7.72c-.78.78-.78 2.05 0 2.83L4 21.41c.39.39.9.59 1.41.59.51 0 1.02-.2 1.41-.59l7.78-7.78 2.81-2.81c.8-.78.8-2.07 0-2.86zM5.41 20L4 18.59l7.72-7.72 1.47 1.35L5.41 20z\"/>\n",
              "  </svg>\n",
              "      </button>\n",
              "      \n",
              "  <style>\n",
              "    .colab-df-container {\n",
              "      display:flex;\n",
              "      flex-wrap:wrap;\n",
              "      gap: 12px;\n",
              "    }\n",
              "\n",
              "    .colab-df-convert {\n",
              "      background-color: #E8F0FE;\n",
              "      border: none;\n",
              "      border-radius: 50%;\n",
              "      cursor: pointer;\n",
              "      display: none;\n",
              "      fill: #1967D2;\n",
              "      height: 32px;\n",
              "      padding: 0 0 0 0;\n",
              "      width: 32px;\n",
              "    }\n",
              "\n",
              "    .colab-df-convert:hover {\n",
              "      background-color: #E2EBFA;\n",
              "      box-shadow: 0px 1px 2px rgba(60, 64, 67, 0.3), 0px 1px 3px 1px rgba(60, 64, 67, 0.15);\n",
              "      fill: #174EA6;\n",
              "    }\n",
              "\n",
              "    [theme=dark] .colab-df-convert {\n",
              "      background-color: #3B4455;\n",
              "      fill: #D2E3FC;\n",
              "    }\n",
              "\n",
              "    [theme=dark] .colab-df-convert:hover {\n",
              "      background-color: #434B5C;\n",
              "      box-shadow: 0px 1px 3px 1px rgba(0, 0, 0, 0.15);\n",
              "      filter: drop-shadow(0px 1px 2px rgba(0, 0, 0, 0.3));\n",
              "      fill: #FFFFFF;\n",
              "    }\n",
              "  </style>\n",
              "\n",
              "      <script>\n",
              "        const buttonEl =\n",
              "          document.querySelector('#df-a5123c90-4b78-4c35-8880-a7b220f948dc button.colab-df-convert');\n",
              "        buttonEl.style.display =\n",
              "          google.colab.kernel.accessAllowed ? 'block' : 'none';\n",
              "\n",
              "        async function convertToInteractive(key) {\n",
              "          const element = document.querySelector('#df-a5123c90-4b78-4c35-8880-a7b220f948dc');\n",
              "          const dataTable =\n",
              "            await google.colab.kernel.invokeFunction('convertToInteractive',\n",
              "                                                     [key], {});\n",
              "          if (!dataTable) return;\n",
              "\n",
              "          const docLinkHtml = 'Like what you see? Visit the ' +\n",
              "            '<a target=\"_blank\" href=https://colab.research.google.com/notebooks/data_table.ipynb>data table notebook</a>'\n",
              "            + ' to learn more about interactive tables.';\n",
              "          element.innerHTML = '';\n",
              "          dataTable['output_type'] = 'display_data';\n",
              "          await google.colab.output.renderOutput(dataTable, element);\n",
              "          const docLink = document.createElement('div');\n",
              "          docLink.innerHTML = docLinkHtml;\n",
              "          element.appendChild(docLink);\n",
              "        }\n",
              "      </script>\n",
              "    </div>\n",
              "  </div>\n",
              "  "
            ],
            "text/plain": [
              "   state_0  ...  mean_encoded_voice_mail_plan\n",
              "0        0  ...                      0.073741\n",
              "1        0  ...                      0.164436\n",
              "2        0  ...                      0.164436\n",
              "3        0  ...                      0.164436\n",
              "4        0  ...                      0.073741\n",
              "\n",
              "[5 rows x 34 columns]"
            ]
          },
          "metadata": {},
          "execution_count": 1199
        }
      ]
    },
    {
      "cell_type": "markdown",
      "source": [
        "**Examine correlations with the target variable**"
      ],
      "metadata": {
        "id": "J_hzS0V3UZxm"
      }
    },
    {
      "cell_type": "markdown",
      "source": [
        "Now we have converted most of our text-based features into numeric ones, and created some new features using our analysis of the data, we can examine which ones are most correlated with customer churn. To do this, I have used the Pandas corr( ) function, which creates a Pearson correlation and returns the coefficient for each column against our target column.\n",
        "\n",
        "One important thing to note from the data below is that there’s also some collinearity. Some of the features, such as mean_encoded_international_plan and international_plan have equal correlations. That means one of them is redundant and could be removed with no impact to the model. "
      ],
      "metadata": {
        "id": "a99S17bgnfK5"
      }
    },
    {
      "cell_type": "code",
      "source": [
        "df[df.columns[1:]].corr()['churn'][:].sort_values(ascending = False).to_frame()"
      ],
      "metadata": {
        "colab": {
          "base_uri": "https://localhost:8080/",
          "height": 1000
        },
        "id": "xWghwN2km589",
        "outputId": "ef50c1c0-652b-4a39-ff38-c381d94f83ea"
      },
      "execution_count": 1200,
      "outputs": [
        {
          "output_type": "execute_result",
          "data": {
            "text/html": [
              "\n",
              "  <div id=\"df-bef4fa14-3b7e-492e-81df-5c9682fb4b5d\">\n",
              "    <div class=\"colab-df-container\">\n",
              "      <div>\n",
              "<style scoped>\n",
              "    .dataframe tbody tr th:only-of-type {\n",
              "        vertical-align: middle;\n",
              "    }\n",
              "\n",
              "    .dataframe tbody tr th {\n",
              "        vertical-align: top;\n",
              "    }\n",
              "\n",
              "    .dataframe thead th {\n",
              "        text-align: right;\n",
              "    }\n",
              "</style>\n",
              "<table border=\"1\" class=\"dataframe\">\n",
              "  <thead>\n",
              "    <tr style=\"text-align: right;\">\n",
              "      <th></th>\n",
              "      <th>churn</th>\n",
              "    </tr>\n",
              "  </thead>\n",
              "  <tbody>\n",
              "    <tr>\n",
              "      <th>churn</th>\n",
              "      <td>1.000000</td>\n",
              "    </tr>\n",
              "    <tr>\n",
              "      <th>mean_encoded_international_plan</th>\n",
              "      <td>0.259053</td>\n",
              "    </tr>\n",
              "    <tr>\n",
              "      <th>international_plan</th>\n",
              "      <td>0.259053</td>\n",
              "    </tr>\n",
              "    <tr>\n",
              "      <th>number_customer_service_calls</th>\n",
              "      <td>0.221220</td>\n",
              "    </tr>\n",
              "    <tr>\n",
              "      <th>total_day_minutes</th>\n",
              "      <td>0.215272</td>\n",
              "    </tr>\n",
              "    <tr>\n",
              "      <th>total_day_charge</th>\n",
              "      <td>0.215263</td>\n",
              "    </tr>\n",
              "    <tr>\n",
              "      <th>mean_encoded_state</th>\n",
              "      <td>0.142246</td>\n",
              "    </tr>\n",
              "    <tr>\n",
              "      <th>mean_encoded_voice_mail_plan</th>\n",
              "      <td>0.114643</td>\n",
              "    </tr>\n",
              "    <tr>\n",
              "      <th>total_eve_minutes</th>\n",
              "      <td>0.078855</td>\n",
              "    </tr>\n",
              "    <tr>\n",
              "      <th>total_eve_charge</th>\n",
              "      <td>0.078852</td>\n",
              "    </tr>\n",
              "    <tr>\n",
              "      <th>total_intl_minutes</th>\n",
              "      <td>0.055186</td>\n",
              "    </tr>\n",
              "    <tr>\n",
              "      <th>total_intl_charge</th>\n",
              "      <td>0.055177</td>\n",
              "    </tr>\n",
              "    <tr>\n",
              "      <th>total_night_minutes</th>\n",
              "      <td>0.046647</td>\n",
              "    </tr>\n",
              "    <tr>\n",
              "      <th>total_night_charge</th>\n",
              "      <td>0.046641</td>\n",
              "    </tr>\n",
              "    <tr>\n",
              "      <th>state_4</th>\n",
              "      <td>0.026010</td>\n",
              "    </tr>\n",
              "    <tr>\n",
              "      <th>charge_rate_intl</th>\n",
              "      <td>0.019706</td>\n",
              "    </tr>\n",
              "    <tr>\n",
              "      <th>account_length</th>\n",
              "      <td>0.019378</td>\n",
              "    </tr>\n",
              "    <tr>\n",
              "      <th>area_code_area_code_510</th>\n",
              "      <td>0.016309</td>\n",
              "    </tr>\n",
              "    <tr>\n",
              "      <th>total_day_calls</th>\n",
              "      <td>0.011640</td>\n",
              "    </tr>\n",
              "    <tr>\n",
              "      <th>charge_rate_eve</th>\n",
              "      <td>0.006120</td>\n",
              "    </tr>\n",
              "    <tr>\n",
              "      <th>charge_rate_night</th>\n",
              "      <td>0.006010</td>\n",
              "    </tr>\n",
              "    <tr>\n",
              "      <th>state_2</th>\n",
              "      <td>0.000619</td>\n",
              "    </tr>\n",
              "    <tr>\n",
              "      <th>area_code_area_code_408</th>\n",
              "      <td>-0.001251</td>\n",
              "    </tr>\n",
              "    <tr>\n",
              "      <th>total_eve_calls</th>\n",
              "      <td>-0.006817</td>\n",
              "    </tr>\n",
              "    <tr>\n",
              "      <th>state_5</th>\n",
              "      <td>-0.008170</td>\n",
              "    </tr>\n",
              "    <tr>\n",
              "      <th>total_night_calls</th>\n",
              "      <td>-0.012699</td>\n",
              "    </tr>\n",
              "    <tr>\n",
              "      <th>area_code_area_code_415</th>\n",
              "      <td>-0.013004</td>\n",
              "    </tr>\n",
              "    <tr>\n",
              "      <th>state_3</th>\n",
              "      <td>-0.021634</td>\n",
              "    </tr>\n",
              "    <tr>\n",
              "      <th>charge_rate_day</th>\n",
              "      <td>-0.022579</td>\n",
              "    </tr>\n",
              "    <tr>\n",
              "      <th>state_1</th>\n",
              "      <td>-0.032738</td>\n",
              "    </tr>\n",
              "    <tr>\n",
              "      <th>total_intl_calls</th>\n",
              "      <td>-0.034334</td>\n",
              "    </tr>\n",
              "    <tr>\n",
              "      <th>number_vmail_messages</th>\n",
              "      <td>-0.100347</td>\n",
              "    </tr>\n",
              "    <tr>\n",
              "      <th>voice_mail_plan</th>\n",
              "      <td>-0.114643</td>\n",
              "    </tr>\n",
              "  </tbody>\n",
              "</table>\n",
              "</div>\n",
              "      <button class=\"colab-df-convert\" onclick=\"convertToInteractive('df-bef4fa14-3b7e-492e-81df-5c9682fb4b5d')\"\n",
              "              title=\"Convert this dataframe to an interactive table.\"\n",
              "              style=\"display:none;\">\n",
              "        \n",
              "  <svg xmlns=\"http://www.w3.org/2000/svg\" height=\"24px\"viewBox=\"0 0 24 24\"\n",
              "       width=\"24px\">\n",
              "    <path d=\"M0 0h24v24H0V0z\" fill=\"none\"/>\n",
              "    <path d=\"M18.56 5.44l.94 2.06.94-2.06 2.06-.94-2.06-.94-.94-2.06-.94 2.06-2.06.94zm-11 1L8.5 8.5l.94-2.06 2.06-.94-2.06-.94L8.5 2.5l-.94 2.06-2.06.94zm10 10l.94 2.06.94-2.06 2.06-.94-2.06-.94-.94-2.06-.94 2.06-2.06.94z\"/><path d=\"M17.41 7.96l-1.37-1.37c-.4-.4-.92-.59-1.43-.59-.52 0-1.04.2-1.43.59L10.3 9.45l-7.72 7.72c-.78.78-.78 2.05 0 2.83L4 21.41c.39.39.9.59 1.41.59.51 0 1.02-.2 1.41-.59l7.78-7.78 2.81-2.81c.8-.78.8-2.07 0-2.86zM5.41 20L4 18.59l7.72-7.72 1.47 1.35L5.41 20z\"/>\n",
              "  </svg>\n",
              "      </button>\n",
              "      \n",
              "  <style>\n",
              "    .colab-df-container {\n",
              "      display:flex;\n",
              "      flex-wrap:wrap;\n",
              "      gap: 12px;\n",
              "    }\n",
              "\n",
              "    .colab-df-convert {\n",
              "      background-color: #E8F0FE;\n",
              "      border: none;\n",
              "      border-radius: 50%;\n",
              "      cursor: pointer;\n",
              "      display: none;\n",
              "      fill: #1967D2;\n",
              "      height: 32px;\n",
              "      padding: 0 0 0 0;\n",
              "      width: 32px;\n",
              "    }\n",
              "\n",
              "    .colab-df-convert:hover {\n",
              "      background-color: #E2EBFA;\n",
              "      box-shadow: 0px 1px 2px rgba(60, 64, 67, 0.3), 0px 1px 3px 1px rgba(60, 64, 67, 0.15);\n",
              "      fill: #174EA6;\n",
              "    }\n",
              "\n",
              "    [theme=dark] .colab-df-convert {\n",
              "      background-color: #3B4455;\n",
              "      fill: #D2E3FC;\n",
              "    }\n",
              "\n",
              "    [theme=dark] .colab-df-convert:hover {\n",
              "      background-color: #434B5C;\n",
              "      box-shadow: 0px 1px 3px 1px rgba(0, 0, 0, 0.15);\n",
              "      filter: drop-shadow(0px 1px 2px rgba(0, 0, 0, 0.3));\n",
              "      fill: #FFFFFF;\n",
              "    }\n",
              "  </style>\n",
              "\n",
              "      <script>\n",
              "        const buttonEl =\n",
              "          document.querySelector('#df-bef4fa14-3b7e-492e-81df-5c9682fb4b5d button.colab-df-convert');\n",
              "        buttonEl.style.display =\n",
              "          google.colab.kernel.accessAllowed ? 'block' : 'none';\n",
              "\n",
              "        async function convertToInteractive(key) {\n",
              "          const element = document.querySelector('#df-bef4fa14-3b7e-492e-81df-5c9682fb4b5d');\n",
              "          const dataTable =\n",
              "            await google.colab.kernel.invokeFunction('convertToInteractive',\n",
              "                                                     [key], {});\n",
              "          if (!dataTable) return;\n",
              "\n",
              "          const docLinkHtml = 'Like what you see? Visit the ' +\n",
              "            '<a target=\"_blank\" href=https://colab.research.google.com/notebooks/data_table.ipynb>data table notebook</a>'\n",
              "            + ' to learn more about interactive tables.';\n",
              "          element.innerHTML = '';\n",
              "          dataTable['output_type'] = 'display_data';\n",
              "          await google.colab.output.renderOutput(dataTable, element);\n",
              "          const docLink = document.createElement('div');\n",
              "          docLink.innerHTML = docLinkHtml;\n",
              "          element.appendChild(docLink);\n",
              "        }\n",
              "      </script>\n",
              "    </div>\n",
              "  </div>\n",
              "  "
            ],
            "text/plain": [
              "                                    churn\n",
              "churn                            1.000000\n",
              "mean_encoded_international_plan  0.259053\n",
              "international_plan               0.259053\n",
              "number_customer_service_calls    0.221220\n",
              "total_day_minutes                0.215272\n",
              "total_day_charge                 0.215263\n",
              "mean_encoded_state               0.142246\n",
              "mean_encoded_voice_mail_plan     0.114643\n",
              "total_eve_minutes                0.078855\n",
              "total_eve_charge                 0.078852\n",
              "total_intl_minutes               0.055186\n",
              "total_intl_charge                0.055177\n",
              "total_night_minutes              0.046647\n",
              "total_night_charge               0.046641\n",
              "state_4                          0.026010\n",
              "charge_rate_intl                 0.019706\n",
              "account_length                   0.019378\n",
              "area_code_area_code_510          0.016309\n",
              "total_day_calls                  0.011640\n",
              "charge_rate_eve                  0.006120\n",
              "charge_rate_night                0.006010\n",
              "state_2                          0.000619\n",
              "area_code_area_code_408         -0.001251\n",
              "total_eve_calls                 -0.006817\n",
              "state_5                         -0.008170\n",
              "total_night_calls               -0.012699\n",
              "area_code_area_code_415         -0.013004\n",
              "state_3                         -0.021634\n",
              "charge_rate_day                 -0.022579\n",
              "state_1                         -0.032738\n",
              "total_intl_calls                -0.034334\n",
              "number_vmail_messages           -0.100347\n",
              "voice_mail_plan                 -0.114643"
            ]
          },
          "metadata": {},
          "execution_count": 1200
        }
      ]
    },
    {
      "cell_type": "markdown",
      "source": [
        "**Featurewiz**"
      ],
      "metadata": {
        "id": "5cHSG_XtHjb6"
      }
    },
    {
      "cell_type": "markdown",
      "source": [
        "As we saw earlier, there are some collinear features present, so adopting a technique such as Featurewiz could see the score go up."
      ],
      "metadata": {
        "id": "zmFvjnRHI6Kj"
      }
    },
    {
      "cell_type": "code",
      "source": [
        "from featurewiz import featurewiz"
      ],
      "metadata": {
        "id": "_H8lHoOPtryI"
      },
      "execution_count": 1201,
      "outputs": []
    },
    {
      "cell_type": "code",
      "source": [
        "target = 'churn'"
      ],
      "metadata": {
        "id": "uEUQyUAxyOYP"
      },
      "execution_count": 1202,
      "outputs": []
    },
    {
      "cell_type": "code",
      "source": [
        "features, df = featurewiz(df, target, corr_limit = 0.8, verbose = 2)"
      ],
      "metadata": {
        "colab": {
          "base_uri": "https://localhost:8080/",
          "height": 1000
        },
        "id": "10vrCjKct8kD",
        "outputId": "e7c7b2d0-5a3e-45b3-a6ec-d36c1788d0d4"
      },
      "execution_count": 1203,
      "outputs": [
        {
          "output_type": "stream",
          "name": "stdout",
          "text": [
            "Skipping feature engineering since no feature_engg input...\n",
            "Skipping category encoding since no category encoders specified in input...\n",
            "Loading train data...\n",
            "Shape of your Data Set loaded: (4250, 34)\n",
            "Loading test data...\n",
            "    Filename is an empty string or file not able to be loaded\n",
            "############## C L A S S I F Y I N G  V A R I A B L E S  ####################\n",
            "Classifying variables in data set...\n",
            "    33 Predictors classified...\n",
            "        No variables removed since no ID or low-information variables found in data set\n",
            "GPU active on this device\n",
            "    Running XGBoost using GPU parameters\n",
            "Removing 0 columns from further processing since ID or low information variables\n",
            "    columns removed: []\n",
            "    After removing redundant variables from further processing, features left = 33\n",
            "#### Single_Label Binary_Classification Feature Selection Started ####\n",
            "Searching for highly correlated variables from 33 variables using SULOV method\n",
            "#####  SULOV : Searching for Uncorrelated List Of Variables (takes time...) ############\n",
            "There are no null values in dataset.\n",
            "    Removing (7) highly correlated variables:\n",
            "    ['international_plan', 'voice_mail_plan', 'number_vmail_messages', 'total_day_minutes', 'total_eve_minutes', 'total_night_minutes', 'total_intl_charge']\n",
            "    Following (26) vars selected: ['state_0', 'state_1', 'state_2', 'state_3', 'state_4', 'state_5', 'account_length', 'area_code_area_code_415', 'area_code_area_code_408', 'area_code_area_code_510', 'total_day_calls', 'total_eve_calls', 'total_night_calls', 'total_intl_calls', 'number_customer_service_calls', 'charge_rate_day', 'charge_rate_night', 'charge_rate_intl', 'charge_rate_eve', 'mean_encoded_state', 'total_day_charge', 'mean_encoded_international_plan', 'total_intl_minutes', 'mean_encoded_voice_mail_plan', 'total_night_charge', 'total_eve_charge']\n"
          ]
        },
        {
          "output_type": "display_data",
          "data": {
            "image/png": "[encoded data removed]",
            "text/plain": [
              "<Figure size 1080x720 with 1 Axes>"
            ]
          },
          "metadata": {}
        },
        {
          "output_type": "stream",
          "name": "stdout",
          "text": [
            "    Adding 0 categorical variables to reduced numeric variables  of 26\n",
            "############## F E A T U R E   S E L E C T I O N  ####################\n",
            "Current number of predictors = 26 \n",
            "    Finding Important Features using Boosted Trees algorithm...\n",
            "        using 26 variables...\n",
            "Warning: GPU exists but it is not turned on. Using CPU for predictions...\n",
            "        using 21 variables...\n",
            "        using 16 variables...\n",
            "        using 11 variables...\n",
            "        using 6 variables...\n",
            "        using 1 variables...\n",
            "Selected 13 important features from your dataset\n",
            "    Time taken (in seconds) = 6\n",
            "Returning list of 13 important features and dataframe.\n"
          ]
        }
      ]
    },
    {
      "cell_type": "markdown",
      "source": [
        "As we can see, Featurewiz selects 13 important features from the dataset. The Featurewiz instance returns two objects \n",
        "\n",
        "* Features - a list of selected features\n",
        "\n",
        "* One dataframe - This dataframe contains only selected features and the target variable."
      ],
      "metadata": {
        "id": "3E3oVUJAiMxZ"
      }
    },
    {
      "cell_type": "markdown",
      "source": [
        "Let see the list of selected features."
      ],
      "metadata": {
        "id": "xgVPlBHDh7ks"
      }
    },
    {
      "cell_type": "code",
      "source": [
        "features"
      ],
      "metadata": {
        "colab": {
          "base_uri": "https://localhost:8080/"
        },
        "id": "xJoqDK9SVtpq",
        "outputId": "5efdb20b-f7f8-4cfe-e8c9-b37c6570dd3f"
      },
      "execution_count": 1283,
      "outputs": [
        {
          "output_type": "execute_result",
          "data": {
            "text/plain": [
              "['number_customer_service_calls',\n",
              " 'mean_encoded_international_plan',\n",
              " 'mean_encoded_voice_mail_plan',\n",
              " 'total_day_charge',\n",
              " 'total_intl_calls',\n",
              " 'total_eve_charge',\n",
              " 'total_intl_minutes',\n",
              " 'area_code_area_code_415',\n",
              " 'total_night_charge',\n",
              " 'mean_encoded_state',\n",
              " 'charge_rate_day',\n",
              " 'charge_rate_night',\n",
              " 'charge_rate_eve']"
            ]
          },
          "metadata": {},
          "execution_count": 1283
        }
      ]
    },
    {
      "cell_type": "markdown",
      "source": [
        "Upon inspecting the correlation heatmap of the df, it was clear that no collinear features were selected. "
      ],
      "metadata": {
        "id": "gbYLS5XvxA_3"
      }
    },
    {
      "cell_type": "code",
      "source": [
        "corr = df.corr()\n",
        "f, ax = plt.subplots(figsize = (16, 14))\n",
        "mask = np.triu(np.ones_like(corr, dtype = bool))\n",
        "cmap = sns.diverging_palette(230, 20, as_cmap = True)\n",
        "ax = sns.heatmap(corr, annot = True, fmt = '.2f', mask = mask, cmap = cmap)\n",
        "ax.tick_params(axis = 'both', which = 'both', length = 0)\n",
        "cbar = ax.collections[0].colorbar\n",
        "cbar.ax.tick_params(size = 0)"
      ],
      "metadata": {
        "colab": {
          "base_uri": "https://localhost:8080/",
          "height": 967
        },
        "id": "Rhwkrr2IV0ba",
        "outputId": "5b97f426-25ba-4469-85e5-d86c3d2fec3d"
      },
      "execution_count": 1205,
      "outputs": [
        {
          "output_type": "display_data",
          "data": {
            "image/png": "[encoded data removed]",
            "text/plain": [
              "<Figure size 1152x1008 with 2 Axes>"
            ]
          },
          "metadata": {
            "needs_background": "light"
          }
        }
      ]
    },
    {
      "cell_type": "markdown",
      "source": [
        "**Feature selection**"
      ],
      "metadata": {
        "id": "JbqGuiFsPojl"
      }
    },
    {
      "cell_type": "markdown",
      "source": [
        "The next step is to take our original dataframe and create the X dataset of features and the y dataset containing the target variable. We will be training the model on X so it must not include anything that causes “data leakage” and tells the model the answer, so we definitely need to drop the target variable column."
      ],
      "metadata": {
        "id": "EoilS_mcMlkd"
      }
    },
    {
      "cell_type": "code",
      "metadata": {
        "id": "w1pjST9MtSkh"
      },
      "source": [
        "X = df.drop(['churn'], axis = 1)"
      ],
      "execution_count": 1206,
      "outputs": []
    },
    {
      "cell_type": "code",
      "metadata": {
        "id": "vKfOswZ1xiYt"
      },
      "source": [
        "y = df['churn']"
      ],
      "execution_count": 1207,
      "outputs": []
    },
    {
      "cell_type": "markdown",
      "source": [
        "**SMOTE-ENN**"
      ],
      "metadata": {
        "id": "_3IcYTk3Dj3M"
      }
    },
    {
      "cell_type": "markdown",
      "source": [
        "Next, we need to deal with the class imbalance in this data set. To help the model identify the relationships, we can use the SMOTE-ENN. This introduces new data on the target variable to balance the classes."
      ],
      "metadata": {
        "id": "FQPHsKV2DyQv"
      }
    },
    {
      "cell_type": "code",
      "source": [
        "from imblearn.combine import SMOTEENN"
      ],
      "metadata": {
        "id": "bsY-5hnw21i4"
      },
      "execution_count": 1208,
      "outputs": []
    },
    {
      "cell_type": "code",
      "source": [
        "smote = SMOTEENN(random_state = 42)\n",
        "X, y = smote.fit_resample(X, y)"
      ],
      "metadata": {
        "id": "58oPkwxcLXVY"
      },
      "execution_count": 1209,
      "outputs": []
    },
    {
      "cell_type": "code",
      "source": [
        "y.value_counts()"
      ],
      "metadata": {
        "colab": {
          "base_uri": "https://localhost:8080/"
        },
        "id": "NDcjMULxMFQC",
        "outputId": "7f7987c4-dd04-4429-de06-97de28b9f09b"
      },
      "execution_count": 1210,
      "outputs": [
        {
          "output_type": "execute_result",
          "data": {
            "text/plain": [
              "1    3447\n",
              "0    2543\n",
              "Name: churn, dtype: int64"
            ]
          },
          "metadata": {},
          "execution_count": 1210
        }
      ]
    },
    {
      "cell_type": "markdown",
      "source": [
        "**Split the training and test data**"
      ],
      "metadata": {
        "id": "VipTv8NQXDb-"
      }
    },
    {
      "cell_type": "markdown",
      "source": [
        "To divide X and y into the train and test datasets we need to train the model we will use the train_test_split( ) function from scikit-learn. We will assign 20% of the data to the test groups using the argument test_size = 0.2, and we will use the stratify = y option to ensure the target variable is present in the test and train data in equal proportions. The random_state = 42 argument means we get reproducible results each time we run the code, rather than a random mix, which may give us different results."
      ],
      "metadata": {
        "id": "1kytXWik6TsD"
      }
    },
    {
      "cell_type": "code",
      "source": [
        "from sklearn.model_selection import train_test_split"
      ],
      "metadata": {
        "id": "u1Hl7G-LakzI"
      },
      "execution_count": 1211,
      "outputs": []
    },
    {
      "cell_type": "code",
      "source": [
        "X_train, X_test, y_train, y_test = train_test_split(X, y, test_size = 0.2, random_state = 42, shuffle = True, stratify = y)"
      ],
      "metadata": {
        "id": "GhO6PsUrYIlb"
      },
      "execution_count": 1212,
      "outputs": []
    },
    {
      "cell_type": "markdown",
      "source": [
        "**Scale the data**"
      ],
      "metadata": {
        "id": "HdHb3RHxE9mV"
      }
    },
    {
      "cell_type": "markdown",
      "source": [
        "To help improve the model results, it’s worth using a scaling or normalisation technique on the data."
      ],
      "metadata": {
        "id": "Op-IiJF2FEYz"
      }
    },
    {
      "cell_type": "code",
      "source": [
        "from sklearn.preprocessing import StandardScaler"
      ],
      "metadata": {
        "id": "FN_Eg0RffCQo"
      },
      "execution_count": 1213,
      "outputs": []
    },
    {
      "cell_type": "code",
      "source": [
        "scaler = StandardScaler()\n",
        "X_train = scaler.fit_transform(X_train)\n",
        "X_test = scaler.transform(X_test)"
      ],
      "metadata": {
        "id": "aJo0cN7te2Od"
      },
      "execution_count": 1214,
      "outputs": []
    },
    {
      "cell_type": "markdown",
      "source": [
        "**Model selection**"
      ],
      "metadata": {
        "id": "vEh7y316BzQE"
      }
    },
    {
      "cell_type": "markdown",
      "source": [
        "Next we need to identify the best model to use. To perform this step I have loaded up a range of packages for a wide range of different classification models, then I have created a dictionary containing the model name and the default model parameters."
      ],
      "metadata": {
        "id": "c0eev69iB5ZA"
      }
    },
    {
      "cell_type": "code",
      "metadata": {
        "id": "R6llewF00ITD"
      },
      "source": [
        "from sklearn.dummy import DummyClassifier\n",
        "from sklearn.neighbors import KNeighborsClassifier\n",
        "from sklearn.neural_network import MLPClassifier\n",
        "from catboost import CatBoostClassifier\n",
        "from sklearn.tree import DecisionTreeClassifier\n",
        "from lightgbm import LGBMClassifier\n",
        "from sklearn.linear_model import LogisticRegression, SGDClassifier, LogisticRegressionCV\n",
        "from sklearn.ensemble import RandomForestClassifier, ExtraTreesClassifier, GradientBoostingClassifier\n",
        "from sklearn.ensemble import BaggingClassifier, AdaBoostClassifier, HistGradientBoostingClassifier\n",
        "from xgboost import XGBClassifier, XGBRFClassifier\n",
        "from sklearn.svm import LinearSVC, SVC\n",
        "from sklearn.naive_bayes import BernoulliNB, MultinomialNB"
      ],
      "execution_count": 1215,
      "outputs": []
    },
    {
      "cell_type": "code",
      "metadata": {
        "id": "1T6fYvQ5RvM7"
      },
      "source": [
        "import time\n",
        "from sklearn.model_selection import cross_val_score\n",
        "from sklearn.metrics import roc_auc_score"
      ],
      "execution_count": 1216,
      "outputs": []
    },
    {
      "cell_type": "code",
      "source": [
        "classifiers = {'DummyClassifier': DummyClassifier(strategy = 'most_frequent'),\n",
        "               'XGBClassifier': XGBClassifier(use_label_encoder = False, eval_metric = 'logloss', objective = 'binary:logistic'),\n",
        "               'LogisticRegression': LogisticRegression(max_iter = 1000),\n",
        "               'LGBMClassifier': LGBMClassifier(),\n",
        "               'RandomForestClassifier': RandomForestClassifier(),\n",
        "               'DecisionTreeClassifier': DecisionTreeClassifier(),\n",
        "               'ExtraTreeClassifier': ExtraTreesClassifier(),\n",
        "               'GradientBoostingClassifier': GradientBoostingClassifier(),    \n",
        "               'BaggingClassifier': BaggingClassifier(),\n",
        "               'AdaBoostClassifier': AdaBoostClassifier(),\n",
        "               'HistGradientBoostingClassifier': HistGradientBoostingClassifier(),\n",
        "               'KNeighborsClassifier': KNeighborsClassifier(),\n",
        "               'SGDClassifier': SGDClassifier(),\n",
        "               'BaggingClassifier': BaggingClassifier(),\n",
        "               'BernoulliNB': BernoulliNB(),\n",
        "               'LinearSVC': LinearSVC(),\n",
        "               'SVC': SVC(),\n",
        "               'CatBoostClassifier': CatBoostClassifier(silent = True)}"
      ],
      "metadata": {
        "id": "zsVnBn1VXO_C"
      },
      "execution_count": 1217,
      "outputs": []
    },
    {
      "cell_type": "markdown",
      "source": [
        "Next we will create a Pandas dataframe into which we will store the data. Then we will loop over each of the models, fit it using the X_train and y_train data, then generate predictions from X_test and calculate the mean ROC/AUC score from 5 rounds of cross-validation. That will give us the ROC/AUC score for the X_test data, plus the average ROC/AUC score for the training data set."
      ],
      "metadata": {
        "id": "3JC5gwewCFLO"
      }
    },
    {
      "cell_type": "code",
      "source": [
        "df_models = pd.DataFrame(columns = ['model', 'run_time', 'roc_auc_cv', 'roc_auc'])\n",
        "\n",
        "for key in classifiers:\n",
        "\n",
        "    print('*', key)\n",
        "\n",
        "    start_time = time.time()\n",
        "\n",
        "    classifier = classifiers[key]\n",
        "    model = classifier.fit(X_train, y_train)\n",
        "    y_pred = model.predict(X_test)\n",
        "\n",
        "    scores = cross_val_score(model, X_train, y_train, cv = 5, scoring = 'roc_auc')\n",
        "\n",
        "    row = {'model': key,\n",
        "           'run_time': format(round((time.time() - start_time)/60, 2)),\n",
        "           'roc_auc_cv': scores.mean(),\n",
        "           'roc_auc': roc_auc_score(y_test, y_pred)}\n",
        "\n",
        "    df_models = df_models.append(row, ignore_index = True)"
      ],
      "metadata": {
        "id": "gEzMSe6xYP8c",
        "colab": {
          "base_uri": "https://localhost:8080/"
        },
        "outputId": "31e1dce2-e31d-4e0d-e3c5-e631fa39ad76"
      },
      "execution_count": 1218,
      "outputs": [
        {
          "output_type": "stream",
          "name": "stdout",
          "text": [
            "* DummyClassifier\n",
            "* XGBClassifier\n",
            "* LogisticRegression\n",
            "* LGBMClassifier\n",
            "* RandomForestClassifier\n",
            "* DecisionTreeClassifier\n",
            "* ExtraTreeClassifier\n",
            "* GradientBoostingClassifier\n",
            "* BaggingClassifier\n",
            "* AdaBoostClassifier\n",
            "* HistGradientBoostingClassifier\n",
            "* KNeighborsClassifier\n",
            "* SGDClassifier\n",
            "* BernoulliNB\n",
            "* LinearSVC\n",
            "* SVC\n",
            "* CatBoostClassifier\n"
          ]
        }
      ]
    },
    {
      "cell_type": "markdown",
      "source": [
        "Examining the output from the model selection step shows that we achieved very good results. The XGBoost classifier performed particularly well."
      ],
      "metadata": {
        "id": "LcsVGpRMCTy8"
      }
    },
    {
      "cell_type": "code",
      "source": [
        "df_models.sort_values(by = 'roc_auc_cv', ascending = False).head()"
      ],
      "metadata": {
        "colab": {
          "base_uri": "https://localhost:8080/",
          "height": 204
        },
        "id": "rgCmiIzSE0Jr",
        "outputId": "4829bd79-82ae-424e-b777-e4c33e2597f7"
      },
      "execution_count": 1219,
      "outputs": [
        {
          "output_type": "execute_result",
          "data": {
            "text/html": [
              "\n",
              "  <div id=\"df-fe858802-979a-40a9-94ab-cdbb28b7156b\">\n",
              "    <div class=\"colab-df-container\">\n",
              "      <div>\n",
              "<style scoped>\n",
              "    .dataframe tbody tr th:only-of-type {\n",
              "        vertical-align: middle;\n",
              "    }\n",
              "\n",
              "    .dataframe tbody tr th {\n",
              "        vertical-align: top;\n",
              "    }\n",
              "\n",
              "    .dataframe thead th {\n",
              "        text-align: right;\n",
              "    }\n",
              "</style>\n",
              "<table border=\"1\" class=\"dataframe\">\n",
              "  <thead>\n",
              "    <tr style=\"text-align: right;\">\n",
              "      <th></th>\n",
              "      <th>model</th>\n",
              "      <th>run_time</th>\n",
              "      <th>roc_auc_cv</th>\n",
              "      <th>roc_auc</th>\n",
              "    </tr>\n",
              "  </thead>\n",
              "  <tbody>\n",
              "    <tr>\n",
              "      <th>3</th>\n",
              "      <td>LGBMClassifier</td>\n",
              "      <td>0.03</td>\n",
              "      <td>0.994362</td>\n",
              "      <td>0.983477</td>\n",
              "    </tr>\n",
              "    <tr>\n",
              "      <th>16</th>\n",
              "      <td>CatBoostClassifier</td>\n",
              "      <td>0.44</td>\n",
              "      <td>0.994156</td>\n",
              "      <td>0.977884</td>\n",
              "    </tr>\n",
              "    <tr>\n",
              "      <th>10</th>\n",
              "      <td>HistGradientBoostingClassifier</td>\n",
              "      <td>0.06</td>\n",
              "      <td>0.993975</td>\n",
              "      <td>0.983008</td>\n",
              "    </tr>\n",
              "    <tr>\n",
              "      <th>1</th>\n",
              "      <td>XGBClassifier</td>\n",
              "      <td>0.13</td>\n",
              "      <td>0.993928</td>\n",
              "      <td>0.984415</td>\n",
              "    </tr>\n",
              "    <tr>\n",
              "      <th>6</th>\n",
              "      <td>ExtraTreeClassifier</td>\n",
              "      <td>0.04</td>\n",
              "      <td>0.993053</td>\n",
              "      <td>0.971902</td>\n",
              "    </tr>\n",
              "  </tbody>\n",
              "</table>\n",
              "</div>\n",
              "      <button class=\"colab-df-convert\" onclick=\"convertToInteractive('df-fe858802-979a-40a9-94ab-cdbb28b7156b')\"\n",
              "              title=\"Convert this dataframe to an interactive table.\"\n",
              "              style=\"display:none;\">\n",
              "        \n",
              "  <svg xmlns=\"http://www.w3.org/2000/svg\" height=\"24px\"viewBox=\"0 0 24 24\"\n",
              "       width=\"24px\">\n",
              "    <path d=\"M0 0h24v24H0V0z\" fill=\"none\"/>\n",
              "    <path d=\"M18.56 5.44l.94 2.06.94-2.06 2.06-.94-2.06-.94-.94-2.06-.94 2.06-2.06.94zm-11 1L8.5 8.5l.94-2.06 2.06-.94-2.06-.94L8.5 2.5l-.94 2.06-2.06.94zm10 10l.94 2.06.94-2.06 2.06-.94-2.06-.94-.94-2.06-.94 2.06-2.06.94z\"/><path d=\"M17.41 7.96l-1.37-1.37c-.4-.4-.92-.59-1.43-.59-.52 0-1.04.2-1.43.59L10.3 9.45l-7.72 7.72c-.78.78-.78 2.05 0 2.83L4 21.41c.39.39.9.59 1.41.59.51 0 1.02-.2 1.41-.59l7.78-7.78 2.81-2.81c.8-.78.8-2.07 0-2.86zM5.41 20L4 18.59l7.72-7.72 1.47 1.35L5.41 20z\"/>\n",
              "  </svg>\n",
              "      </button>\n",
              "      \n",
              "  <style>\n",
              "    .colab-df-container {\n",
              "      display:flex;\n",
              "      flex-wrap:wrap;\n",
              "      gap: 12px;\n",
              "    }\n",
              "\n",
              "    .colab-df-convert {\n",
              "      background-color: #E8F0FE;\n",
              "      border: none;\n",
              "      border-radius: 50%;\n",
              "      cursor: pointer;\n",
              "      display: none;\n",
              "      fill: #1967D2;\n",
              "      height: 32px;\n",
              "      padding: 0 0 0 0;\n",
              "      width: 32px;\n",
              "    }\n",
              "\n",
              "    .colab-df-convert:hover {\n",
              "      background-color: #E2EBFA;\n",
              "      box-shadow: 0px 1px 2px rgba(60, 64, 67, 0.3), 0px 1px 3px 1px rgba(60, 64, 67, 0.15);\n",
              "      fill: #174EA6;\n",
              "    }\n",
              "\n",
              "    [theme=dark] .colab-df-convert {\n",
              "      background-color: #3B4455;\n",
              "      fill: #D2E3FC;\n",
              "    }\n",
              "\n",
              "    [theme=dark] .colab-df-convert:hover {\n",
              "      background-color: #434B5C;\n",
              "      box-shadow: 0px 1px 3px 1px rgba(0, 0, 0, 0.15);\n",
              "      filter: drop-shadow(0px 1px 2px rgba(0, 0, 0, 0.3));\n",
              "      fill: #FFFFFF;\n",
              "    }\n",
              "  </style>\n",
              "\n",
              "      <script>\n",
              "        const buttonEl =\n",
              "          document.querySelector('#df-fe858802-979a-40a9-94ab-cdbb28b7156b button.colab-df-convert');\n",
              "        buttonEl.style.display =\n",
              "          google.colab.kernel.accessAllowed ? 'block' : 'none';\n",
              "\n",
              "        async function convertToInteractive(key) {\n",
              "          const element = document.querySelector('#df-fe858802-979a-40a9-94ab-cdbb28b7156b');\n",
              "          const dataTable =\n",
              "            await google.colab.kernel.invokeFunction('convertToInteractive',\n",
              "                                                     [key], {});\n",
              "          if (!dataTable) return;\n",
              "\n",
              "          const docLinkHtml = 'Like what you see? Visit the ' +\n",
              "            '<a target=\"_blank\" href=https://colab.research.google.com/notebooks/data_table.ipynb>data table notebook</a>'\n",
              "            + ' to learn more about interactive tables.';\n",
              "          element.innerHTML = '';\n",
              "          dataTable['output_type'] = 'display_data';\n",
              "          await google.colab.output.renderOutput(dataTable, element);\n",
              "          const docLink = document.createElement('div');\n",
              "          docLink.innerHTML = docLinkHtml;\n",
              "          element.appendChild(docLink);\n",
              "        }\n",
              "      </script>\n",
              "    </div>\n",
              "  </div>\n",
              "  "
            ],
            "text/plain": [
              "                             model run_time  roc_auc_cv   roc_auc\n",
              "3                   LGBMClassifier     0.03    0.994362  0.983477\n",
              "16              CatBoostClassifier     0.44    0.994156  0.977884\n",
              "10  HistGradientBoostingClassifier     0.06    0.993975  0.983008\n",
              "1                    XGBClassifier     0.13    0.993928  0.984415\n",
              "6              ExtraTreeClassifier     0.04    0.993053  0.971902"
            ]
          },
          "metadata": {},
          "execution_count": 1219
        }
      ]
    },
    {
      "cell_type": "markdown",
      "source": [
        "**Assess the best model**"
      ],
      "metadata": {
        "id": "hiTFUcf2FQ0M"
      }
    },
    {
      "cell_type": "markdown",
      "source": [
        "Now, we will use XGBoost’s XGBClassifier to create a classification model and we will fit the model using the data stored in X_train and y_train."
      ],
      "metadata": {
        "id": "cZY8sp73WW5v"
      }
    },
    {
      "cell_type": "code",
      "source": [
        "model = XGBClassifier()\n",
        "model.fit(X_train, y_train)"
      ],
      "metadata": {
        "colab": {
          "base_uri": "https://localhost:8080/"
        },
        "id": "1uqJS6sQc2GF",
        "outputId": "1b3fccc9-2e1c-46dd-be1f-4a5cb0f57597"
      },
      "execution_count": 1274,
      "outputs": [
        {
          "output_type": "execute_result",
          "data": {
            "text/plain": [
              "XGBClassifier(base_score=0.5, booster='gbtree', colsample_bylevel=1,\n",
              "              colsample_bynode=1, colsample_bytree=1, enable_categorical=False,\n",
              "              gamma=0, gpu_id=-1, importance_type=None,\n",
              "              interaction_constraints='', learning_rate=0.300000012,\n",
              "              max_delta_step=0, max_depth=6, min_child_weight=1, missing=nan,\n",
              "              monotone_constraints='()', n_estimators=100, n_jobs=2,\n",
              "              num_parallel_tree=1, predictor='auto', random_state=0,\n",
              "              reg_alpha=0, reg_lambda=1, scale_pos_weight=1, subsample=1,\n",
              "              tree_method='exact', validate_parameters=1, verbosity=None)"
            ]
          },
          "metadata": {},
          "execution_count": 1274
        }
      ]
    },
    {
      "cell_type": "markdown",
      "source": [
        "Finally, we can use our model trained on the training data to make predictions on the test dataset using the predict( ) function."
      ],
      "metadata": {
        "id": "eSLsc6hAayxy"
      }
    },
    {
      "cell_type": "code",
      "source": [
        "y_pred = model.predict(X_test)"
      ],
      "metadata": {
        "id": "aZIIwMFtXXga"
      },
      "execution_count": 1275,
      "outputs": []
    },
    {
      "cell_type": "markdown",
      "source": [
        "To examine how well the model performed in a little more detail we can make use of the classification_report( ) and confusion_matrix( ) functions. The classification report shows us the precision, recall, and F1 score for our predictions."
      ],
      "metadata": {
        "id": "L94AkOWxHRHu"
      }
    },
    {
      "cell_type": "code",
      "source": [
        "from sklearn.metrics import classification_report"
      ],
      "metadata": {
        "id": "RKCjwIJVbnHp"
      },
      "execution_count": 1276,
      "outputs": []
    },
    {
      "cell_type": "code",
      "source": [
        "print(classification_report(y_test, y_pred))"
      ],
      "metadata": {
        "colab": {
          "base_uri": "https://localhost:8080/"
        },
        "id": "EjSpMQGtbVHG",
        "outputId": "62ef4788-23c3-4a12-f0cb-c3bb09d291c1"
      },
      "execution_count": 1277,
      "outputs": [
        {
          "output_type": "stream",
          "name": "stdout",
          "text": [
            "              precision    recall  f1-score   support\n",
            "\n",
            "           0       0.98      0.99      0.98       509\n",
            "           1       0.99      0.98      0.99       689\n",
            "\n",
            "    accuracy                           0.98      1198\n",
            "   macro avg       0.98      0.98      0.98      1198\n",
            "weighted avg       0.98      0.98      0.98      1198\n",
            "\n"
          ]
        }
      ]
    },
    {
      "cell_type": "markdown",
      "source": [
        "The confusion matrix shows us that:"
      ],
      "metadata": {
        "id": "_UQF0wcqetYR"
      }
    },
    {
      "cell_type": "markdown",
      "source": [
        "* 502 true negatives (the customers didn’t churn, and we predicted this correctly)\n",
        "\n",
        "* 677 true positives (the customers did churn, and we predicted this correctly)\n",
        "\n",
        "* 7 false positives (the customers didn’t churn, but we wrongly predicted that they would)\n",
        "\n",
        "* 12 false negatives (the customers did churn, but we wrongly predicted that they wouldn’t)"
      ],
      "metadata": {
        "id": "xDeR8xr2eGeO"
      }
    },
    {
      "cell_type": "markdown",
      "source": [
        "Out of 1198 predictions, we got it right 1179 times, and we got it wrong just 19 times."
      ],
      "metadata": {
        "id": "4UcmA-iBe0TJ"
      }
    },
    {
      "cell_type": "code",
      "source": [
        "from sklearn.metrics import ConfusionMatrixDisplay"
      ],
      "metadata": {
        "id": "WyfrMBjWJ_xV"
      },
      "execution_count": 1279,
      "outputs": []
    },
    {
      "cell_type": "code",
      "source": [
        "ConfusionMatrixDisplay.from_predictions(y_test, y_pred)"
      ],
      "metadata": {
        "colab": {
          "base_uri": "https://localhost:8080/",
          "height": 296
        },
        "id": "m1lWuL8wVPRP",
        "outputId": "bf2c7dcb-7e6d-45d7-af84-966347065916"
      },
      "execution_count": 1280,
      "outputs": [
        {
          "output_type": "execute_result",
          "data": {
            "text/plain": [
              "<sklearn.metrics._plot.confusion_matrix.ConfusionMatrixDisplay at 0x7fc57f4aa590>"
            ]
          },
          "metadata": {},
          "execution_count": 1280
        },
        {
          "output_type": "display_data",
          "data": {
            "image/png": "[encoded data removed]",
            "text/plain": [
              "<Figure size 432x288 with 2 Axes>"
            ]
          },
          "metadata": {
            "needs_background": "light"
          }
        }
      ]
    }
  ]
}